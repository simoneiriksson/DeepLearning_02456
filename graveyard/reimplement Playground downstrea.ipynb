{
 "cells": [
  {
   "cell_type": "code",
   "execution_count": 1,
   "id": "d81d7e12-43b7-47f3-af40-7ee36ab599f8",
   "metadata": {},
   "outputs": [],
   "source": [
    "from typing import List, Set, Dict, Tuple, Optional, Any\n",
    "from collections import defaultdict\n",
    "import pandas as pd\n",
    "import seaborn as sns\n",
    "import numpy as np\n",
    "import matplotlib.pyplot as plt\n",
    "\n",
    "import math \n",
    "import torch\n",
    "from torch import nn, Tensor\n",
    "from torch.nn.functional import softplus, relu\n",
    "from torch.distributions import Distribution, Normal\n",
    "from torch.utils.data import DataLoader\n",
    "from torch.utils.data import DataLoader, Dataset\n",
    "\n",
    "from models.LoadModels import LoadVAEmodel, initVAEmodel\n",
    "from utils.data_transformers import normalize_every_image_channels_seperately_inplace\n",
    "from utils.data_transformers import normalize_channels_inplace, batch_normalize_images\n",
    "from utils.data_transformers import SingleCellDataset\n",
    "from utils.plotting import plot_VAE_performance\n",
    "from utils.data_preparation import create_directory\n",
    "from utils.data_preparation import read_metadata_and_images\n",
    "from utils.data_preparation import get_MOA_mappings, shuffle_metadata, split_metadata\n",
    "from utils.utils import cprint, get_datetime, create_logfile, constant_seed\n",
    "from utils.utils import save_model\n",
    "from downstream_task import downstream_task\n",
    "\n",
    "from utils.data_preparation import read_metadata, get_relative_image_paths, load_images\n",
    "\n",
    "from utils.profiling import LatentVariableExtraction\n",
    "\n",
    "import importlib\n",
    "\n",
    "from VAE_trainer import VAE_trainer \n",
    "from VAEGAN_trainer import VAEGAN_trainer"
   ]
  },
  {
   "cell_type": "code",
   "execution_count": 2,
   "id": "6d7458f5-da61-4f63-afb9-6233ec3374a5",
   "metadata": {},
   "outputs": [],
   "source": [
    "from utils.data_preparation import *\n",
    "from utils.data_transformers import *\n",
    "from utils.plotting import *\n",
    "from utils.profiling import *\n"
   ]
  },
  {
   "cell_type": "code",
   "execution_count": 3,
   "id": "8c7a5cb4-656c-480a-bb11-7ebd236d3b6b",
   "metadata": {},
   "outputs": [],
   "source": [
    "datetime=get_datetime()\n",
    "create_directory(\"dump/logs\")\n",
    "logfile = open(\"./dump/logs/log_{}.log\".format(datetime), \"w\")\n",
    "logfile=None"
   ]
  },
  {
   "cell_type": "code",
   "execution_count": 4,
   "id": "f0b5cd27-e9ba-4b31-b228-e877390cbc7c",
   "metadata": {},
   "outputs": [],
   "source": [
    "datetime = get_datetime()\n",
    "output_folder = \"dump/analyse_StandardVAE_{}/\".format(datetime)\n",
    "create_directory(output_folder)"
   ]
  },
  {
   "cell_type": "code",
   "execution_count": 5,
   "id": "1caea30d-fa93-45e9-8312-d1ac6696068f",
   "metadata": {},
   "outputs": [],
   "source": [
    "def constant_seed(seed: int = 0):\n",
    "    torch.manual_seed(seed)\n",
    "    torch.cuda.manual_seed(seed)\n",
    "    np.random.seed(seed)\n",
    "constant_seed()"
   ]
  },
  {
   "cell_type": "code",
   "execution_count": 6,
   "id": "ae362f4a-9334-4f14-aa8e-814545a98384",
   "metadata": {},
   "outputs": [
    {
     "name": "stdout",
     "output_type": "stream",
     "text": [
      "08:59:59 | Using device: cpu\n"
     ]
    }
   ],
   "source": [
    "device = torch.device(\"cuda:0\" if torch.cuda.is_available() else \"cpu\")\n",
    "cprint(f\"Using device: {device}\", logfile)"
   ]
  },
  {
   "cell_type": "markdown",
   "id": "12a80967-dcc1-40e4-b8d7-a9ce7d3f7724",
   "metadata": {},
   "source": [
    "## Load data"
   ]
  },
  {
   "cell_type": "code",
   "execution_count": 7,
   "id": "75f7edd9-cbd0-4538-813e-501a7dac2378",
   "metadata": {},
   "outputs": [
    {
     "name": "stdout",
     "output_type": "stream",
     "text": [
      "09:00:00 | Using a subset of the metadata\n",
      "09:00:00 | loaded metadata\n",
      "09:00:00 | loading images\n",
      "09:00:00 | loading images from individual files\n",
      "09:00:01 | loading images now\n",
      "verbose:  True\n",
      "09:00:01 | loaded 0/50000 images (0.00%).\n",
      "09:00:01 | loaded 500/50000 images (1.00%).\n",
      "09:00:01 | loaded 1000/50000 images (2.00%).\n",
      "09:00:02 | loaded 1500/50000 images (3.00%).\n",
      "09:00:02 | loaded 2000/50000 images (4.00%).\n",
      "09:00:02 | loaded 2500/50000 images (5.00%).\n",
      "09:00:02 | loaded 3000/50000 images (6.00%).\n",
      "09:00:02 | loaded 3500/50000 images (7.00%).\n",
      "09:00:02 | loaded 4000/50000 images (8.00%).\n",
      "09:00:03 | loaded 4500/50000 images (9.00%).\n",
      "09:00:03 | loaded 5000/50000 images (10.00%).\n",
      "09:00:03 | loaded 5500/50000 images (11.00%).\n",
      "09:00:03 | loaded 6000/50000 images (12.00%).\n",
      "09:00:03 | loaded 6500/50000 images (13.00%).\n",
      "09:00:03 | loaded 7000/50000 images (14.00%).\n",
      "09:00:04 | loaded 7500/50000 images (15.00%).\n",
      "09:00:04 | loaded 8000/50000 images (16.00%).\n",
      "09:00:04 | loaded 8500/50000 images (17.00%).\n",
      "09:00:04 | loaded 9000/50000 images (18.00%).\n",
      "09:00:04 | loaded 9500/50000 images (19.00%).\n",
      "09:00:05 | loaded 10000/50000 images (20.00%).\n",
      "09:00:05 | loaded 10500/50000 images (21.00%).\n",
      "09:00:05 | loaded 11000/50000 images (22.00%).\n",
      "09:00:05 | loaded 11500/50000 images (23.00%).\n",
      "09:00:06 | loaded 12000/50000 images (24.00%).\n",
      "09:00:06 | loaded 12500/50000 images (25.00%).\n",
      "09:00:06 | loaded 13000/50000 images (26.00%).\n",
      "09:00:06 | loaded 13500/50000 images (27.00%).\n",
      "09:00:06 | loaded 14000/50000 images (28.00%).\n",
      "09:00:07 | loaded 14500/50000 images (29.00%).\n",
      "09:00:07 | loaded 15000/50000 images (30.00%).\n",
      "09:00:07 | loaded 15500/50000 images (31.00%).\n",
      "09:00:07 | loaded 16000/50000 images (32.00%).\n",
      "09:00:07 | loaded 16500/50000 images (33.00%).\n",
      "09:00:08 | loaded 17000/50000 images (34.00%).\n",
      "09:00:08 | loaded 17500/50000 images (35.00%).\n",
      "09:00:08 | loaded 18000/50000 images (36.00%).\n",
      "09:00:08 | loaded 18500/50000 images (37.00%).\n",
      "09:00:08 | loaded 19000/50000 images (38.00%).\n",
      "09:00:08 | loaded 19500/50000 images (39.00%).\n",
      "09:00:09 | loaded 20000/50000 images (40.00%).\n",
      "09:00:09 | loaded 20500/50000 images (41.00%).\n",
      "09:00:09 | loaded 21000/50000 images (42.00%).\n",
      "09:00:09 | loaded 21500/50000 images (43.00%).\n",
      "09:00:09 | loaded 22000/50000 images (44.00%).\n",
      "09:00:09 | loaded 22500/50000 images (45.00%).\n",
      "09:00:10 | loaded 23000/50000 images (46.00%).\n",
      "09:00:10 | loaded 23500/50000 images (47.00%).\n",
      "09:00:10 | loaded 24000/50000 images (48.00%).\n",
      "09:00:10 | loaded 24500/50000 images (49.00%).\n",
      "09:00:10 | loaded 25000/50000 images (50.00%).\n",
      "09:00:11 | loaded 25500/50000 images (51.00%).\n",
      "09:00:11 | loaded 26000/50000 images (52.00%).\n",
      "09:00:11 | loaded 26500/50000 images (53.00%).\n",
      "09:00:11 | loaded 27000/50000 images (54.00%).\n",
      "09:00:11 | loaded 27500/50000 images (55.00%).\n",
      "09:00:11 | loaded 28000/50000 images (56.00%).\n",
      "09:00:12 | loaded 28500/50000 images (57.00%).\n",
      "09:00:12 | loaded 29000/50000 images (58.00%).\n",
      "09:00:12 | loaded 29500/50000 images (59.00%).\n",
      "09:00:12 | loaded 30000/50000 images (60.00%).\n",
      "09:00:12 | loaded 30500/50000 images (61.00%).\n",
      "09:00:12 | loaded 31000/50000 images (62.00%).\n",
      "09:00:13 | loaded 31500/50000 images (63.00%).\n",
      "09:00:13 | loaded 32000/50000 images (64.00%).\n",
      "09:00:13 | loaded 32500/50000 images (65.00%).\n",
      "09:00:13 | loaded 33000/50000 images (66.00%).\n",
      "09:00:13 | loaded 33500/50000 images (67.00%).\n",
      "09:00:13 | loaded 34000/50000 images (68.00%).\n",
      "09:00:14 | loaded 34500/50000 images (69.00%).\n",
      "09:00:14 | loaded 35000/50000 images (70.00%).\n",
      "09:00:14 | loaded 35500/50000 images (71.00%).\n",
      "09:00:14 | loaded 36000/50000 images (72.00%).\n",
      "09:00:14 | loaded 36500/50000 images (73.00%).\n",
      "09:00:14 | loaded 37000/50000 images (74.00%).\n",
      "09:00:15 | loaded 37500/50000 images (75.00%).\n",
      "09:00:15 | loaded 38000/50000 images (76.00%).\n",
      "09:00:15 | loaded 38500/50000 images (77.00%).\n",
      "09:00:15 | loaded 39000/50000 images (78.00%).\n",
      "09:00:15 | loaded 39500/50000 images (79.00%).\n",
      "09:00:15 | loaded 40000/50000 images (80.00%).\n",
      "09:00:16 | loaded 40500/50000 images (81.00%).\n",
      "09:00:16 | loaded 41000/50000 images (82.00%).\n",
      "09:00:16 | loaded 41500/50000 images (83.00%).\n",
      "09:00:16 | loaded 42000/50000 images (84.00%).\n",
      "09:00:16 | loaded 42500/50000 images (85.00%).\n",
      "09:00:16 | loaded 43000/50000 images (86.00%).\n",
      "09:00:17 | loaded 43500/50000 images (87.00%).\n",
      "09:00:17 | loaded 44000/50000 images (88.00%).\n",
      "09:00:17 | loaded 44500/50000 images (89.00%).\n",
      "09:00:17 | loaded 45000/50000 images (90.00%).\n",
      "09:00:17 | loaded 45500/50000 images (91.00%).\n",
      "09:00:17 | loaded 46000/50000 images (92.00%).\n",
      "09:00:18 | loaded 46500/50000 images (93.00%).\n",
      "09:00:18 | loaded 47000/50000 images (94.00%).\n",
      "09:00:18 | loaded 47500/50000 images (95.00%).\n",
      "09:00:18 | loaded 48000/50000 images (96.00%).\n",
      "09:00:18 | loaded 48500/50000 images (97.00%).\n",
      "09:00:18 | loaded 49000/50000 images (98.00%).\n",
      "09:00:19 | loaded 49500/50000 images (99.00%).\n",
      "09:00:19 | loaded 50000/50000 images (100.00%).\n",
      "09:00:19 | loaded images\n"
     ]
    }
   ],
   "source": [
    "images, metadata, mapping = read_metadata_and_images(use_server_path = False, \\\n",
    "                                                        load_images_from_individual_files = True, \n",
    "                                                        load_subset_of_images = 50000, \n",
    "                                                        save_images_to_singlefile = False,\n",
    "                                                        logfile = logfile)\n"
   ]
  },
  {
   "cell_type": "code",
   "execution_count": 8,
   "id": "e49ad22f-e01c-404d-8a42-31e696a0b7d3",
   "metadata": {},
   "outputs": [
    {
     "name": "stdout",
     "output_type": "stream",
     "text": [
      "skipping\n"
     ]
    }
   ],
   "source": [
    "%%script echo skipping\n",
    "\n",
    "data_root = \"../data/all/\"\n",
    "metadata_all = read_metadata(data_root + \"metadata.csv\")"
   ]
  },
  {
   "cell_type": "code",
   "execution_count": 9,
   "id": "e46835d9-5eda-4632-a397-a7f9f32838ce",
   "metadata": {},
   "outputs": [
    {
     "name": "stdout",
     "output_type": "stream",
     "text": [
      "skipping\n"
     ]
    }
   ],
   "source": [
    "%%script echo skipping\n",
    "metadata_all.groupby(['moa'])['moa'].count()"
   ]
  },
  {
   "cell_type": "code",
   "execution_count": 10,
   "id": "ab537d89-320e-4bf8-88f4-75327b2863b8",
   "metadata": {},
   "outputs": [
    {
     "name": "stdout",
     "output_type": "stream",
     "text": [
      "skipping\n"
     ]
    }
   ],
   "source": [
    "%%script echo skipping\n",
    "metadata = shuffle_metadata(metadata_all)[:50000]\n",
    "mapping = get_MOA_mappings(metadata)\n"
   ]
  },
  {
   "cell_type": "code",
   "execution_count": 11,
   "id": "4ffc32e9-a7c1-47ed-8c86-c947e4439723",
   "metadata": {},
   "outputs": [],
   "source": [
    "#metadata_train_all, metadata_test = split_metadata(metadata, split_fraction = .90)\n",
    "#metadata_train, metadata_validation = split_metadata(metadata_train_all, split_fraction = .90)"
   ]
  },
  {
   "cell_type": "code",
   "execution_count": 12,
   "id": "336e55f7-b286-401f-99d9-005ba868f726",
   "metadata": {},
   "outputs": [],
   "source": [
    "#metadata = shuffle_metadata(metadata)\n",
    "metadata_train, metadata_validation = split_metadata(metadata, split_fraction = .90)"
   ]
  },
  {
   "cell_type": "code",
   "execution_count": 13,
   "id": "b414f904-3b7c-4dcf-9896-81086cc224c3",
   "metadata": {},
   "outputs": [
    {
     "name": "stdout",
     "output_type": "stream",
     "text": [
      "skipping\n"
     ]
    }
   ],
   "source": [
    "%%script echo skipping\n",
    "relative_path = get_relative_image_paths(metadata)\n",
    "image_paths = [data_root + path for path in relative_path]"
   ]
  },
  {
   "cell_type": "code",
   "execution_count": 14,
   "id": "37b2c279-48b2-4b8b-ae6d-b81eba42112e",
   "metadata": {},
   "outputs": [
    {
     "name": "stdout",
     "output_type": "stream",
     "text": [
      "skipping\n"
     ]
    }
   ],
   "source": [
    "%%script echo skipping\n",
    "images = load_images(image_paths, verbose=True, log_every=10000)"
   ]
  },
  {
   "cell_type": "markdown",
   "id": "21a85991-cb4d-4ea9-9178-fb9935c0df6a",
   "metadata": {},
   "source": [
    "## Normalize data"
   ]
  },
  {
   "cell_type": "code",
   "execution_count": 15,
   "id": "35e15119-6b58-4a6d-96e7-d298d91c2a06",
   "metadata": {},
   "outputs": [
    {
     "name": "stdout",
     "output_type": "stream",
     "text": [
      "torch.Size([50000, 3, 68, 68])\n"
     ]
    }
   ],
   "source": [
    "normalize_every_image_channels_seperately_inplace(images)\n",
    "#normalize_channels_inplace(images)\n",
    "print(images.shape)"
   ]
  },
  {
   "cell_type": "markdown",
   "id": "c8e0477b-1931-4f8e-91a9-44fa8f11c0ee",
   "metadata": {},
   "source": [
    "## Split data"
   ]
  },
  {
   "cell_type": "code",
   "execution_count": 16,
   "id": "b4d2d6ed-395e-461e-bc2f-ba014d42ec84",
   "metadata": {},
   "outputs": [],
   "source": [
    "train_set = SingleCellDataset(metadata_train, images, mapping)\n",
    "validation_set = SingleCellDataset(metadata_validation, images, mapping)\n",
    "#test_set = SingleCellDataset(metadata_test, images, mapping)"
   ]
  },
  {
   "cell_type": "code",
   "execution_count": null,
   "id": "3a89c397-f36e-4a4f-be93-419c2de81618",
   "metadata": {},
   "outputs": [],
   "source": []
  },
  {
   "cell_type": "markdown",
   "id": "518cf610-bf26-4977-ba7c-a5c2a1f90693",
   "metadata": {},
   "source": [
    "## Load trained model"
   ]
  },
  {
   "cell_type": "code",
   "execution_count": 17,
   "id": "5e3fc9df-0214-4c3d-bcd4-036e3973b5e1",
   "metadata": {},
   "outputs": [],
   "source": [
    "from models.CytoVariationalAutoencoder import CytoVariationalAutoencoder\n",
    "from models.DISC import DISC\n",
    "from models.SparseVariationalAutoencoder import SparseVariationalAutoencoder\n",
    "from models.VariationalInference_VAE import VariationalInference_VAE\n",
    "from models.VariationalInference_VAEGAN import VariationalInference_VAEGAN\n",
    "from models.VariationalInference_SparseVAEGAN import VariationalInference_SparseVAEGAN\n",
    "from models.VariationalInference_SparseVAE import VariationalInference_SparseVAE\n",
    "\n",
    "def LoadVAEmodel(folder, model_type=None, device=\"cpu\"):\n",
    "    params = torch.load(folder + \"params.pt\", map_location=torch.device(device))\n",
    "\n",
    "    validation_data = torch.load(folder + \"validation_data.pt\", map_location=torch.device(device))\n",
    "    training_data = torch.load(folder + \"training_data.pt\", map_location=torch.device(device))\n",
    "    \n",
    "    model_type = params['model_type']\n",
    "    if 'p_norm' in params.keys(): p_norm = params['p_norm'] \n",
    "    else: p_norm = 2\n",
    "\n",
    "    if model_type in ['Cyto_nonvar', 'CytoVAE']:\n",
    "        vae = CytoVariationalAutoencoder_nonvar(params['image_shape'], params['latent_features'])\n",
    "        vae.load_state_dict(torch.load(folder + \"vae_parameters.pt\", map_location=torch.device(device)))\n",
    "        vi = VariationalInference_VAE(beta=params['beta'], p_norm = p_norm)\n",
    "        model = [vae]\n",
    "\n",
    "    if model_type == 'SparseVAE':\n",
    "        vae = SparseVariationalAutoencoder(params['image_shape'], params['latent_features'])\n",
    "        vae.load_state_dict(torch.load(folder + \"vae_parameters.pt\", map_location=torch.device(device)))\n",
    "        vi = VariationalInference_SparseVAE(beta=params['beta'], alpha=params['alpha'])\n",
    "        model = [vae]\n",
    "    return model, validation_data, training_data, params"
   ]
  },
  {
   "cell_type": "code",
   "execution_count": 18,
   "id": "d20b46cd-5d57-46a9-9c30-164015200e2a",
   "metadata": {},
   "outputs": [],
   "source": [
    "#Cyto model nonvar\n",
    "model_type  = \"Cyto_nonvar\"\n",
    "#vae, validation_data, training_data, VAE_settings = LoadVAEmodel(\"./dump/outputs_2022-12-02 - 22-12-04/\", model_type=\"Cyto_nonvar\")\n",
    "vae, validation_data, training_data, VAE_settings = LoadVAEmodel(\"./dump/outputs_2023-01-01 - 22-24-26/\", model_type=\"Cyto_nonvar\")\n"
   ]
  },
  {
   "cell_type": "code",
   "execution_count": 19,
   "id": "4d11be2b-0d19-4dbb-a2c8-2804dbdd9ea8",
   "metadata": {},
   "outputs": [],
   "source": [
    "# Sparse VAE\n",
    "# vae, validation_data, training_data, VAE_settings = LoadVAEmodel(\"./dump/outputs_2022-12-04 - 17-58-30/\")"
   ]
  },
  {
   "cell_type": "code",
   "execution_count": 20,
   "id": "679ee8e3-c3f4-47f6-9382-5969a41f9ca7",
   "metadata": {},
   "outputs": [],
   "source": [
    "\n",
    "vae = vae[0].to(device)\n",
    "optimizer = torch.optim.Adam(vae.parameters(), lr=VAE_settings['learning_rate'], weight_decay=VAE_settings['weight_decay'])\n",
    "\n",
    "vi = VariationalInference_SparseVAE(beta=VAE_settings['beta'])"
   ]
  },
  {
   "cell_type": "code",
   "execution_count": null,
   "id": "8d03251e-2f2f-411b-80b2-0c8c2abfa5d3",
   "metadata": {},
   "outputs": [],
   "source": []
  },
  {
   "cell_type": "code",
   "execution_count": 21,
   "id": "12e23d4b-f1eb-4ef8-91e7-682660db93f6",
   "metadata": {},
   "outputs": [],
   "source": [
    "#train_loader = DataLoader(train_set, batch_size=VAE_settings['batch_size'], shuffle=True, num_workers=0, drop_last=True)\n",
    "#validation_loader = DataLoader(validation_set, batch_size=VAE_settings['batch_size'], shuffle=False, num_workers=0, drop_last=False)\n"
   ]
  },
  {
   "cell_type": "markdown",
   "id": "32dbb026-9396-4e9c-a85b-5d1acf122f8b",
   "metadata": {},
   "source": [
    "## Latent space heatmap\n",
    "1) one-hot-encoding of a variable\n",
    "2) calculate correlation matrix between the hot-encoded variables and latent space variables\n",
    "3) plot it out nocely"
   ]
  },
  {
   "cell_type": "code",
   "execution_count": 22,
   "id": "6d173aec-4dad-4120-8fad-aa8c88d7c0eb",
   "metadata": {},
   "outputs": [
    {
     "name": "stdout",
     "output_type": "stream",
     "text": [
      "skipping\n"
     ]
    }
   ],
   "source": [
    "%%script echo skipping\n",
    "\n",
    "# extracting latent variables for each image/cell\n",
    "def LatentVariableExtraction(metadata, images, batch_size, vae):\n",
    "    images.shape[0]\n",
    "    batch_size=min(batch_size, len(images))\n",
    "    batch_offset = np.arange(start=0, stop=images.shape[0]+1, step=batch_size)\n",
    "\n",
    "    df = pd.DataFrame()\n",
    "    new_metadata = pd.DataFrame()\n",
    "\n",
    "    for j, item in enumerate(batch_offset[:-1]):\n",
    "        start = batch_offset[j]\n",
    "        end = batch_offset[j+1]\n",
    "        outputs = vae(images[start:end,:,:,:])\n",
    "        z = outputs[\"z\"]\n",
    "        columns_list = [\"latent_\"+str(z) for z in range(z.shape[1])]\n",
    "        z_df = pd.DataFrame(z.detach().numpy(), columns=columns_list)\n",
    "        z_df.index = list(range(start,end))\n",
    "        df = pd.concat([metadata.iloc[start:end], z_df], axis=1)\n",
    "        new_metadata = pd.concat([new_metadata, df], axis=0)\n",
    "        print(\"Profiling {}/{} batches of size {}\".format(j, len(batch_offset)-1, batch_size))\n",
    "    \n",
    "    # last batch\n",
    "    start = batch_offset[-1]\n",
    "    end = images.shape[0]\n",
    "    if start != end:\n",
    "        #print(start, end)\n",
    "        outputs = vae(images[start:end,:,:,:])\n",
    "        z = outputs[\"z\"]\n",
    "        #print(\"z.shape\", z.shape)\n",
    "        columns_list = [\"latent_\"+str(z) for z in range(z.shape[1])]\n",
    "        z_df = pd.DataFrame(z.detach().numpy(), columns=columns_list)\n",
    "        z_df.index = list(range(start,end))\n",
    "        df = pd.concat([metadata.iloc[start:end], z_df], axis=1)\n",
    "        new_metadata = pd.concat([new_metadata, df], axis=0)\n",
    "        print(\"Profiling {}/{} batches of size {}\".format(len(batch_offset)-1, len(batch_offset)-1, end-start))\n",
    "\n",
    "    return new_metadata"
   ]
  },
  {
   "cell_type": "code",
   "execution_count": 23,
   "id": "7922cc63-eaf0-4ef0-8b0e-9a3fee749dbf",
   "metadata": {},
   "outputs": [
    {
     "name": "stdout",
     "output_type": "stream",
     "text": [
      "09:00:21 | Profiling 0/48 batches of size 1024\n",
      "09:00:25 | Profiling 1/48 batches of size 1024\n",
      "09:00:27 | Profiling 2/48 batches of size 1024\n",
      "09:00:29 | Profiling 3/48 batches of size 1024\n",
      "09:00:32 | Profiling 4/48 batches of size 1024\n",
      "09:00:34 | Profiling 5/48 batches of size 1024\n",
      "09:00:36 | Profiling 6/48 batches of size 1024\n",
      "09:00:38 | Profiling 7/48 batches of size 1024\n",
      "09:00:40 | Profiling 8/48 batches of size 1024\n",
      "09:00:43 | Profiling 9/48 batches of size 1024\n",
      "09:00:45 | Profiling 10/48 batches of size 1024\n",
      "09:00:47 | Profiling 11/48 batches of size 1024\n",
      "09:00:49 | Profiling 12/48 batches of size 1024\n",
      "09:00:51 | Profiling 13/48 batches of size 1024\n",
      "09:00:53 | Profiling 14/48 batches of size 1024\n",
      "09:00:56 | Profiling 15/48 batches of size 1024\n",
      "09:00:58 | Profiling 16/48 batches of size 1024\n",
      "09:01:00 | Profiling 17/48 batches of size 1024\n",
      "09:01:02 | Profiling 18/48 batches of size 1024\n",
      "09:01:05 | Profiling 19/48 batches of size 1024\n",
      "09:01:07 | Profiling 20/48 batches of size 1024\n",
      "09:01:09 | Profiling 21/48 batches of size 1024\n",
      "09:01:11 | Profiling 22/48 batches of size 1024\n",
      "09:01:13 | Profiling 23/48 batches of size 1024\n",
      "09:01:16 | Profiling 24/48 batches of size 1024\n",
      "09:01:18 | Profiling 25/48 batches of size 1024\n",
      "09:01:20 | Profiling 26/48 batches of size 1024\n",
      "09:01:22 | Profiling 27/48 batches of size 1024\n",
      "09:01:24 | Profiling 28/48 batches of size 1024\n",
      "09:01:27 | Profiling 29/48 batches of size 1024\n",
      "09:01:29 | Profiling 30/48 batches of size 1024\n",
      "09:01:31 | Profiling 31/48 batches of size 1024\n",
      "09:01:33 | Profiling 32/48 batches of size 1024\n",
      "09:01:34 | Profiling 33/48 batches of size 1024\n",
      "09:01:36 | Profiling 34/48 batches of size 1024\n",
      "09:01:38 | Profiling 35/48 batches of size 1024\n",
      "09:01:41 | Profiling 36/48 batches of size 1024\n",
      "09:01:43 | Profiling 37/48 batches of size 1024\n",
      "09:01:45 | Profiling 38/48 batches of size 1024\n",
      "09:01:47 | Profiling 39/48 batches of size 1024\n",
      "09:01:49 | Profiling 40/48 batches of size 1024\n",
      "09:01:51 | Profiling 41/48 batches of size 1024\n",
      "09:01:53 | Profiling 42/48 batches of size 1024\n",
      "09:01:55 | Profiling 43/48 batches of size 1024\n",
      "09:01:58 | Profiling 44/48 batches of size 1024\n",
      "09:02:01 | Profiling 45/48 batches of size 1024\n",
      "09:02:04 | Profiling 46/48 batches of size 1024\n",
      "09:02:13 | Profiling 47/48 batches of size 1024\n",
      "09:02:20 | Profiling 48/48 batches of size 848\n"
     ]
    }
   ],
   "source": [
    "metadata['Well_unique'] = metadata['Image_Metadata_Well_DAPI'] + '_' + metadata['Image_Metadata_Plate_DAPI']\n",
    "metadata['Treatment'] = metadata['Image_Metadata_Compound'] + '_' + metadata['Image_Metadata_Concentration'].astype(str)\n",
    "metadata['week'] = metadata['Image_PathName_DAPI'].str.split(\"_\", n=1, expand = True)[0]\n",
    "metadata['row_id'] = np.arange(len(metadata))\n",
    "metadata_latent = LatentVariableExtraction(metadata, images, 1024, vae, 'cpu')"
   ]
  },
  {
   "cell_type": "code",
   "execution_count": 24,
   "id": "837d76dd-406d-4a63-b277-923e7507c7cb",
   "metadata": {},
   "outputs": [],
   "source": [
    "#metadata_latent.to_csv(\"help_me_notebook.csv\")\n"
   ]
  },
  {
   "cell_type": "code",
   "execution_count": 25,
   "id": "27b8cbb2-219e-4da5-ae1a-d31a247ebf25",
   "metadata": {},
   "outputs": [],
   "source": [
    "metadata_onehot = pd.concat([metadata_latent, pd.get_dummies(metadata_latent[\"moa\"], prefix = 'onehot_moa')], axis=1)"
   ]
  },
  {
   "cell_type": "code",
   "execution_count": 26,
   "id": "f9574336-043b-4a6c-8a06-14d509786693",
   "metadata": {},
   "outputs": [],
   "source": [
    "latent_cols = [col for col in metadata_onehot.columns if type(col)==str and col[0:7]=='latent_']\n",
    "one_hot_cols = [col for col in metadata_onehot.columns if type(col)==str and col[0:7]=='onehot_']\n"
   ]
  },
  {
   "cell_type": "code",
   "execution_count": 27,
   "id": "e8e716fd-ef16-4a2d-9c2e-cfeac1886c6c",
   "metadata": {},
   "outputs": [],
   "source": [
    "heatmap_matrix = metadata_onehot[one_hot_cols + latent_cols].corr().filter(items=one_hot_cols, axis=0)[latent_cols]\n"
   ]
  },
  {
   "cell_type": "code",
   "execution_count": 28,
   "id": "703df5e2-98da-4d11-8400-3a13b42e3973",
   "metadata": {},
   "outputs": [
    {
     "data": {
      "text/plain": [
       "Index(['onehot_moa_Actin disruptors', 'onehot_moa_Aurora kinase inhibitors',\n",
       "       'onehot_moa_Cholesterol-lowering', 'onehot_moa_DMSO',\n",
       "       'onehot_moa_DNA damage', 'onehot_moa_DNA replication',\n",
       "       'onehot_moa_Eg5 inhibitors', 'onehot_moa_Epithelial',\n",
       "       'onehot_moa_Kinase inhibitors', 'onehot_moa_Microtubule destabilizers',\n",
       "       'onehot_moa_Microtubule stabilizers', 'onehot_moa_Protein degradation',\n",
       "       'onehot_moa_Protein synthesis'],\n",
       "      dtype='object')"
      ]
     },
     "execution_count": 28,
     "metadata": {},
     "output_type": "execute_result"
    }
   ],
   "source": [
    "heatmap_matrix.index"
   ]
  },
  {
   "cell_type": "code",
   "execution_count": 29,
   "id": "476b4a99-1b19-4f47-81a3-1d83eb239989",
   "metadata": {},
   "outputs": [
    {
     "name": "stdout",
     "output_type": "stream",
     "text": [
      "['Actin disruptors', 'Aurora kinase inhibitors', 'Cholesterol-lowering', 'DMSO', 'DNA damage', 'DNA replication', 'Eg5 inhibitors', 'Epithelial', 'Kinase inhibitors', 'Microtubule destabilizers', 'Microtubule stabilizers', 'Protein degradation', 'Protein synthesis']\n"
     ]
    }
   ],
   "source": [
    "meh = [x[11:] for x in heatmap_matrix.index]\n",
    "print(meh)"
   ]
  },
  {
   "cell_type": "code",
   "execution_count": 30,
   "id": "d50c2526-42d7-47d2-9b65-5725dbb195ed",
   "metadata": {},
   "outputs": [],
   "source": [
    "heatmap_matrix.index = meh"
   ]
  },
  {
   "cell_type": "code",
   "execution_count": 31,
   "id": "6b201f79-7685-42ea-8b73-07ad16659184",
   "metadata": {},
   "outputs": [],
   "source": [
    "#sns.heatmap(heatmap_matrix.abs(), annot=True)\n",
    "#heatmap_matrix"
   ]
  },
  {
   "cell_type": "code",
   "execution_count": 32,
   "id": "5208f939-8063-441e-b68e-2fc4f556d495",
   "metadata": {},
   "outputs": [
    {
     "name": "stdout",
     "output_type": "stream",
     "text": [
      "Index(['DMSO', 'Microtubule stabilizers', 'Aurora kinase inhibitors',\n",
      "       'DNA damage', 'Eg5 inhibitors', 'Epithelial', 'Kinase inhibitors',\n",
      "       'Protein synthesis', 'Actin disruptors', 'DNA replication',\n",
      "       'Cholesterol-lowering', 'Microtubule destabilizers',\n",
      "       'Protein degradation'],\n",
      "      dtype='object')\n"
     ]
    },
    {
     "data": {
      "image/png": "[encoded data removed]",
      "text/plain": [
       "<Figure size 1600x200 with 1 Axes>"
      ]
     },
     "metadata": {},
     "output_type": "display_data"
    },
    {
     "data": {
      "image/png": "[encoded data removed]",
      "text/plain": [
       "<Figure size 640x480 with 2 Axes>"
      ]
     },
     "metadata": {},
     "output_type": "display_data"
    }
   ],
   "source": [
    "heatmap_matrix_abs = heatmap_matrix.abs()\n",
    "heatmap_latentmax = heatmap_matrix_abs.max(axis=0)\n",
    "heatmap_latent_var_order = heatmap_latentmax.sort_values(ascending=False).index\n",
    "heatmap_matrix_abs_reordered = heatmap_matrix_abs[heatmap_latent_var_order]\n",
    "\n",
    "heatmap_moa_max = heatmap_matrix_abs.max(axis=1)\n",
    "heatmap_moa_order = heatmap_moa_max.sort_values(ascending=False).index\n",
    "print(heatmap_moa_order)\n",
    "heatmap_matrix_abs_reordered = heatmap_matrix_abs_reordered.reindex(heatmap_moa_order)\n",
    "plt.matshow(heatmap_matrix_abs_reordered.to_numpy())\n",
    "plt.show()\n",
    "sns.heatmap(heatmap_matrix_abs_reordered, annot=True)\n",
    "plt.show()\n"
   ]
  },
  {
   "cell_type": "code",
   "execution_count": 33,
   "id": "7532f322-e7b3-4b67-8d7f-e66f0f0d1a09",
   "metadata": {},
   "outputs": [
    {
     "data": {
      "image/png": "[encoded data removed]",
      "text/plain": [
       "<Figure size 1600x200 with 1 Axes>"
      ]
     },
     "metadata": {},
     "output_type": "display_data"
    }
   ],
   "source": [
    "# Normalize each moa\n",
    "heatmap_matrix_abs = heatmap_matrix.abs()\n",
    "heatmap_norm = heatmap_matrix_abs.divide(heatmap_matrix_abs.mean(axis=1), axis=0)\n",
    "heatmap_latentmax = heatmap_matrix_abs.max(axis=0)\n",
    "\n",
    "#print(type(heatmap_latentmax))\n",
    "\n",
    "#print(heatmap_latentmax[heatmap_latentmax >= heatmap_latentmax.quantile(q=0.9)])\n",
    "subset_for_grouping = heatmap_latentmax[heatmap_latentmax >= heatmap_latentmax.quantile(q=0.8)]\n",
    "subset_for_not_grouping = heatmap_latentmax[heatmap_latentmax < heatmap_latentmax.quantile(q=0.9)].sort_values(ascending=False)\n",
    "\n",
    "#print(subset_for_not_grouping)\n",
    "\n",
    "# Pick argmax for each latent. That is the group it belongs to.\n",
    "heatmap_latent_belongs_to = heatmap_norm.idxmax()\n",
    "\n",
    "heatmap_latent_belongs_to_pd = heatmap_latent_belongs_to.to_frame()\n",
    "heatmap_latent_belongs_to_pd['moa_id']  = pd.factorize(heatmap_latent_belongs_to_pd[0])[0]\n",
    "with pd.option_context('display.max_rows', None,\n",
    "                       'display.max_columns', None,\n",
    "                       'display.precision', 3,\n",
    "                       ):\n",
    "    #print(heatmap_latent_belongs_to_pd.sort_values('moa_id'))\n",
    "    pass\n",
    "\n",
    "heatmap_latent_var_order = heatmap_latent_belongs_to_pd.sort_values('moa_id').index\n",
    "heatmap_latent_var_order_subset = [latent for latent in heatmap_latent_var_order if latent in subset_for_grouping]\n",
    "heatmap_latent_var_order_2 = heatmap_latent_var_order_subset + [latent for latent in subset_for_not_grouping.index]\n",
    "#print(heatmap_latent_var_order_subset)\n",
    "#print(heatmap_latent_var_order_2)\n",
    "\n",
    "#print(heatmap_latent_belongs_to_pd.sort_values('moa_id'))\n",
    "heatmap_matrix_abs_reordered = heatmap_matrix_abs[heatmap_latent_var_order_2[0:150]]\n",
    "#print(heatmap_matrix_abs_reordered)\n",
    "# Chose the X% latent var with highest max correct value\n",
    "#print(heatmap_matrix_abs_reordered.to_numpy())\n",
    "#print(heatmap_matrix_abs_reordered)\n",
    "plt.matshow(heatmap_matrix_abs_reordered)\n",
    "plt.savefig(output_folder + \"heatmap.png\")\n",
    "plt.show()"
   ]
  },
  {
   "cell_type": "code",
   "execution_count": 34,
   "id": "3f0be050-03a4-4808-9615-5d9c3438c938",
   "metadata": {},
   "outputs": [
    {
     "data": {
      "image/png": "[encoded data removed]",
      "text/plain": [
       "<Figure size 800x300 with 1 Axes>"
      ]
     },
     "metadata": {},
     "output_type": "display_data"
    }
   ],
   "source": [
    "#viridis\n",
    "plt.figure(figsize = (8,3))\n",
    "sns.heatmap(heatmap_matrix_abs_reordered, cmap=\"viridis\", xticklabels=False, cbar=False)\n",
    "plt.savefig(output_folder + \"heatmap_sns.png\")\n",
    "plt.show()"
   ]
  },
  {
   "cell_type": "markdown",
   "id": "124e8ec4-1969-4ba6-8c32-5989c49e41b7",
   "metadata": {},
   "source": [
    "## Nearest neighbour classification\n",
    "### NSC Not-Same-Compound:\n",
    "1) A = Take a subset consisting of all cells form one compound.\n",
    "2) B = Take the rest\n",
    "3) For each element in A, find their closest neighbor in B\n",
    "4) Use the moa class label from B as the predicted class label for elements in A\n",
    "\n",
    "### NSCB Not-Same-Compound-and-Batch:\n",
    "1) A = Take a subset consisting of all cells form one plate.\n",
    "2) B = Take the rest\n",
    "3) For each element in A, find their closest neighbor in B\n",
    "4) Use the moa class label from B as the predicted class label for elements in A\n"
   ]
  },
  {
   "cell_type": "code",
   "execution_count": 35,
   "id": "7ac56996-2fe6-45d4-82a2-a25ace0538fc",
   "metadata": {},
   "outputs": [],
   "source": [
    "from sklearn.neighbors import NearestNeighbors\n"
   ]
  },
  {
   "cell_type": "code",
   "execution_count": 36,
   "id": "beb02800-745a-413d-ba00-03ff35a672b0",
   "metadata": {},
   "outputs": [
    {
     "data": {
      "text/plain": [
       "Index(['Unnamed: 0', 'Multi_Cell_Image_Id', 'Multi_Cell_Image_Name',\n",
       "       'Single_Cell_Image_Id', 'Single_Cell_Image_Name', 'TableNumber',\n",
       "       'ImageNumber', 'Image_FileName_DAPI', 'Image_PathName_DAPI',\n",
       "       'Image_FileName_Tubulin', 'Image_PathName_Tubulin',\n",
       "       'Image_FileName_Actin', 'Image_PathName_Actin',\n",
       "       'Image_Metadata_Plate_DAPI', 'Image_Metadata_Well_DAPI', 'Replicate',\n",
       "       'Image_Metadata_Compound', 'Image_Metadata_Concentration', 'moa',\n",
       "       'Well_unique', 'Treatment', 'week', 'row_id'],\n",
       "      dtype='object')"
      ]
     },
     "execution_count": 36,
     "metadata": {},
     "output_type": "execute_result"
    }
   ],
   "source": [
    "#model on all observations\n",
    "metadata_latent_latent_cols = metadata_latent[latent_cols]\n",
    "metadata.columns\n"
   ]
  },
  {
   "cell_type": "code",
   "execution_count": 37,
   "id": "73dc4dce-8791-44c1-87ad-7891803d0bd1",
   "metadata": {},
   "outputs": [],
   "source": [
    "metadata['NSC_class']=''"
   ]
  },
  {
   "cell_type": "code",
   "execution_count": 38,
   "id": "22339cfc-cba1-4af8-8791-fc250da65c5d",
   "metadata": {},
   "outputs": [
    {
     "name": "stdout",
     "output_type": "stream",
     "text": [
      "skipping\n"
     ]
    }
   ],
   "source": [
    "%%script echo skipping\n",
    "\n",
    "NSC_var = 'week'\n",
    "class_var = 'moa'\n",
    "\n",
    "for myNSC_var in metadata_latent[NSC_var].unique():\n",
    "    print(\"\\nBegging myclass: \", myNSC_var)\n",
    "    class_rows_list = metadata[metadata_latent[NSC_var] == myNSC_var]['row_id'].to_list()\n",
    "    class_subset = metadata_latent[latent_cols][metadata_latent[NSC_var] == myNSC_var]\n",
    "    anti_set = metadata_latent[latent_cols][metadata_latent[NSC_var] != myNSC_var]\n",
    "    print(\"fitting to antiset\")\n",
    "    nbrs = NearestNeighbors(n_neighbors=1, algorithm='brute').fit(anti_set)\n",
    "    print(\"classifying\")\n",
    "    myclassification = nbrs.kneighbors(class_subset, 1, return_distance=False)\n",
    "    myclassification_list = list(myclassification[:,0])\n",
    "    for classification_row_id , metadata_row_id in enumerate(class_rows_list):\n",
    "        myclass = metadata.filter(items = [myclassification_list[classification_row_id]], axis=0)[class_var].tolist()[0]\n",
    "        metadata.at[metadata_row_id, 'NSC_class'] = myclass\n",
    "        metadata.at[metadata_row_id, 'nearest_neighbor_NSC'] = myclassification_list[classification_row_id]\n",
    "    print(\"\\nFinished myclass: \", myclass)\n"
   ]
  },
  {
   "cell_type": "code",
   "execution_count": null,
   "id": "ed893258-6d1c-4341-b4a5-5b2685e2f6bc",
   "metadata": {},
   "outputs": [],
   "source": []
  },
  {
   "cell_type": "code",
   "execution_count": null,
   "id": "970626fc-bd06-488e-a8b8-2379cbff895d",
   "metadata": {},
   "outputs": [],
   "source": []
  },
  {
   "cell_type": "code",
   "execution_count": null,
   "id": "5b1c9bc6-8f43-4489-976f-e03e9ffb20f6",
   "metadata": {},
   "outputs": [],
   "source": []
  },
  {
   "cell_type": "markdown",
   "id": "a3b62858-eb6d-4560-81f5-e0164051af0f",
   "metadata": {},
   "source": [
    "## Nearest neighbour classification\n",
    "1) Get profile from well\n",
    "2) Get profile from unique treatment\n",
    "\n",
    "### NSC Not-Same-Compound:\n",
    "1) A = Take all the treatment-profiles with the chosen compound. \n",
    "2) B = Take the rest of the treatment-profiles.\n",
    "3) For each element in A, find their closest neighbor in B\n",
    "4) Use the moa class label from B as the predicted class label for elements in A\n",
    "\n",
    "### NSCB Not-Same-Compound-and-Batch:\n",
    "1) A = Take all the treatment-profiles with the chosen week & compound.\n",
    "3) B = Take all treatment-profiles that are from other weeks and from other compound.\n",
    "4) For each element in A, find their closest neighbor in B.\n",
    "5) Use the moa class label from B as the predicted class label for elements in A\n"
   ]
  },
  {
   "cell_type": "code",
   "execution_count": 39,
   "id": "aa5cc58e-e1b8-469f-9b64-d21950ae6c35",
   "metadata": {},
   "outputs": [
    {
     "data": {
      "text/plain": [
       "Index(['Unnamed: 0', 'Multi_Cell_Image_Id', 'Multi_Cell_Image_Name',\n",
       "       'Single_Cell_Image_Id', 'Single_Cell_Image_Name', 'TableNumber',\n",
       "       'ImageNumber', 'Image_FileName_DAPI', 'Image_PathName_DAPI',\n",
       "       'Image_FileName_Tubulin', 'Image_PathName_Tubulin',\n",
       "       'Image_FileName_Actin', 'Image_PathName_Actin',\n",
       "       'Image_Metadata_Plate_DAPI', 'Image_Metadata_Well_DAPI', 'Replicate',\n",
       "       'Image_Metadata_Compound', 'Image_Metadata_Concentration', 'moa',\n",
       "       'Well_unique', 'Treatment', 'week', 'row_id', 'NSC_class'],\n",
       "      dtype='object')"
      ]
     },
     "execution_count": 39,
     "metadata": {},
     "output_type": "execute_result"
    }
   ],
   "source": [
    "metadata.columns "
   ]
  },
  {
   "cell_type": "code",
   "execution_count": 40,
   "id": "4e23d5aa-6edd-4aa6-ade5-e033129c6bf2",
   "metadata": {},
   "outputs": [],
   "source": [
    "metadata['Image_Metadata_Compound'].unique()\n",
    "compound = 'taxol'"
   ]
  },
  {
   "cell_type": "code",
   "execution_count": 41,
   "id": "2f606219-4a2d-48d9-8214-d409e25905a9",
   "metadata": {},
   "outputs": [],
   "source": [
    "# Treatment Profiles\n",
    "def treatment_profiles(nm):\n",
    "    latent_cols = [col for col in nm.columns if type(col)==str and col[0:7]=='latent_']\n",
    "    mean_over_treatment_well_unique = nm.groupby(['Treatment', 'Image_Metadata_Compound', 'Image_Metadata_Concentration','Well_unique', 'moa'], as_index=False).mean()\n",
    "    median_over_treatment = mean_over_treatment_well_unique.groupby(['Treatment', 'Image_Metadata_Compound', 'Image_Metadata_Concentration', 'moa'], as_index=False).median()\n",
    "    return median_over_treatment"
   ]
  },
  {
   "cell_type": "code",
   "execution_count": null,
   "id": "5cf4a30b-c6ef-45a3-a68c-c9bb1ddc8b3e",
   "metadata": {},
   "outputs": [],
   "source": []
  },
  {
   "cell_type": "code",
   "execution_count": 42,
   "id": "d711d363-6da5-4445-aed1-44887b2751b2",
   "metadata": {},
   "outputs": [
    {
     "data": {
      "text/plain": [
       "Index(['Treatment', 'Image_Metadata_Compound', 'Image_Metadata_Concentration',\n",
       "       'moa', 'Unnamed: 0', 'Multi_Cell_Image_Id', 'Single_Cell_Image_Id',\n",
       "       'TableNumber', 'ImageNumber', 'Replicate', 'row_id', 'latent_0',\n",
       "       'latent_1', 'latent_2', 'latent_3', 'latent_4', 'latent_5', 'latent_6',\n",
       "       'latent_7', 'latent_8'],\n",
       "      dtype='object')"
      ]
     },
     "metadata": {},
     "output_type": "display_data"
    }
   ],
   "source": [
    "treatment_profiles_df = treatment_profiles(metadata_latent)\n",
    "display(treatment_profiles_df.columns[0:20])\n"
   ]
  },
  {
   "cell_type": "code",
   "execution_count": 43,
   "id": "0b8ed214-ad72-4a39-b660-0179d3683f87",
   "metadata": {},
   "outputs": [],
   "source": [
    "NSC_var = 'Image_Metadata_Compound'\n",
    "class_var = 'moa'\n",
    "p=2\n",
    "treatment_profiles_df['moa_pred'] = \"\"\n",
    "\n",
    "for compound in metadata_latent[NSC_var].unique():\n",
    "    #print(\"\\nBeginning compound: \", compound)\n",
    "    A_set = treatment_profiles_df[treatment_profiles_df['Image_Metadata_Compound'] == compound]\n",
    "\n",
    "    for A_idx, A_treatment in enumerate(A_set['Treatment']):\n",
    "        B_set = treatment_profiles_df[treatment_profiles_df['Treatment'] != A_treatment]\n",
    "        B_set_index_list = list(B_set.index)\n",
    "        nbrs = NearestNeighbors(n_neighbors=1, algorithm='brute').fit(B_set[latent_cols])\n",
    "        myclassification = nbrs.kneighbors(A_set[latent_cols], 1, return_distance=False)\n",
    "        myclassification_list = list(myclassification[:,0])\n",
    "        #print(\"A_idx \", A_idx)\n",
    "        nearest_in_B_set = myclassification_list[A_idx]\n",
    "        #print(\"nearest_in_B_set: \", nearest_in_B_set)\n",
    "        myclass = B_set.at[B_set_index_list[nearest_in_B_set], \"moa\"]\n",
    "        #print(\"myclass: \", myclass)\n",
    "        treatment_profiles_df_idx = treatment_profiles_df[treatment_profiles_df[\"Treatment\"] == A_treatment].index[0]\n",
    "        #print(\"treatment_profiles_df_idx:\", treatment_profiles_df_idx)\n",
    "        treatment_profiles_df.at[treatment_profiles_df_idx , \"moa_pred\"] = myclass\n",
    "        #print(\"moa: {}\".format())\n",
    "    #print(\"\\nFinished compound: \", compound)\n",
    "\n",
    "    \n",
    "        \n",
    "\n",
    "#display(treatment_profiles_df[\"moa_pred\", \"moa\"])\n",
    "\n"
   ]
  },
  {
   "cell_type": "code",
   "execution_count": 44,
   "id": "8541e18f-d92f-4af1-93be-525ad3608761",
   "metadata": {},
   "outputs": [],
   "source": [
    "NSC_var = 'Image_Metadata_Compound'\n",
    "class_var = 'moa'\n",
    "p=2\n",
    "treatment_profiles_df['moa_pred'] = \"\"\n",
    "\n",
    "for compound in metadata_latent[NSC_var].unique():\n",
    "    #print(\"\\nBeginning compound: \", compound)\n",
    "    A_set = treatment_profiles_df[treatment_profiles_df['Image_Metadata_Compound'] == compound]\n",
    "    B_set = treatment_profiles_df[treatment_profiles_df['Image_Metadata_Compound'] != compound]\n",
    "    #print(\"A_set.columns[0:20]: \", A_set.columns[0:20])\n",
    "    #closest_neighbour = []\n",
    "    #print(\"len(A_set): \", len(A_set))\n",
    "    #print(\"len(B_set): \", len(B_set))\n",
    "    #print(B_set.index)\n",
    "    B_set_index_list = list(B_set.index)\n",
    "    #print(\"B_set_index_list\", B_set_index_list)\n",
    "    #print(A_set.index)\n",
    "    \n",
    "    nbrs = NearestNeighbors(n_neighbors=1, algorithm='brute').fit(B_set[latent_cols])\n",
    "    myclassification = nbrs.kneighbors(A_set[latent_cols], 1, return_distance=False)\n",
    "    myclassification_list = list(myclassification[:,0])\n",
    "\n",
    "    for A_idx, A_treatment in enumerate(A_set['Treatment']):\n",
    "        #print(\"A_idx \", A_idx)\n",
    "        nearest_in_B_set = myclassification_list[A_idx]\n",
    "        #print(\"nearest_in_B_set: \", nearest_in_B_set)\n",
    "        myclass = B_set.at[B_set_index_list[nearest_in_B_set], \"moa\"]\n",
    "        #print(\"myclass: \", myclass)\n",
    "        treatment_profiles_df_idx = treatment_profiles_df[treatment_profiles_df[\"Treatment\"] == A_treatment].index[0]\n",
    "        #print(\"treatment_profiles_df_idx:\", treatment_profiles_df_idx)\n",
    "        treatment_profiles_df.at[treatment_profiles_df_idx , \"moa_pred\"] = myclass\n",
    "        #print(\"moa: {}\".format())\n",
    "    #print(\"\\nFinished compound: \", compound)\n",
    "\n",
    "    \n",
    "        \n",
    "\n",
    "#display(treatment_profiles_df[\"moa_pred\", \"moa\"])\n",
    "\n"
   ]
  },
  {
   "cell_type": "code",
   "execution_count": 45,
   "id": "460036e4-ea8d-4597-9602-bcb08fdcfe2e",
   "metadata": {},
   "outputs": [],
   "source": [
    "NSC_var = 'Image_Metadata_Compound'\n",
    "class_var = 'moa'\n",
    "p=2\n",
    "\n",
    "for compound in metadata_latent[NSC_var].unique():\n",
    "    A_set = treatment_profiles_df[treatment_profiles_df['Image_Metadata_Compound'] == compound]\n",
    "    B_set = treatment_profiles_df[treatment_profiles_df['Image_Metadata_Compound'] != compound]\n",
    "    for A in A_set.index:\n",
    "        A_treatment = A_set.loc[A]['Treatment']\n",
    "        diffs = (abs(B_set[latent_cols] - A_set.loc[A][latent_cols]))**p\n",
    "        diffs_sum = diffs.sum(axis=1)**(1/p)\n",
    "        diffs_min = diffs_sum.min()\n",
    "        res = B_set.at[diffs[diffs_sum == diffs_min].index[0], 'moa']\n",
    "        treatment_profiles_df.loc[treatment_profiles_df['Treatment']==A_treatment,'moa_pred'] = res"
   ]
  },
  {
   "cell_type": "code",
   "execution_count": 46,
   "id": "d26b6764-a24b-4811-b62e-60e7599f9ca7",
   "metadata": {},
   "outputs": [
    {
     "name": "stdout",
     "output_type": "stream",
     "text": [
      "moa_pred\n",
      "Actin disruptors              6\n",
      "Aurora kinase inhibitors     12\n",
      "Cholesterol-lowering          6\n",
      "DMSO                          7\n",
      "DNA damage                   10\n",
      "DNA replication               4\n",
      "Eg5 inhibitors               12\n",
      "Epithelial                    9\n",
      "Kinase inhibitors             5\n",
      "Microtubule destabilizers     8\n",
      "Microtubule stabilizers      12\n",
      "Protein degradation           5\n",
      "Protein synthesis             8\n",
      "Name: moa_pred, dtype: int64\n",
      "moa\n",
      "Actin disruptors              5\n",
      "Aurora kinase inhibitors     12\n",
      "Cholesterol-lowering          6\n",
      "DMSO                          1\n",
      "DNA damage                    9\n",
      "DNA replication               8\n",
      "Eg5 inhibitors               12\n",
      "Epithelial                    8\n",
      "Kinase inhibitors             5\n",
      "Microtubule destabilizers    14\n",
      "Microtubule stabilizers       9\n",
      "Protein degradation           7\n",
      "Protein synthesis             8\n",
      "Name: moa, dtype: int64\n"
     ]
    }
   ],
   "source": [
    "print(treatment_profiles_df.groupby(['moa_pred'])['moa_pred'].count())\n",
    "print(treatment_profiles_df.groupby(['moa'])['moa'].count())"
   ]
  },
  {
   "cell_type": "code",
   "execution_count": 47,
   "id": "0751fd42-e00e-4961-9d0d-0cadd520cb00",
   "metadata": {},
   "outputs": [
    {
     "name": "stdout",
     "output_type": "stream",
     "text": [
      "                                                     moa_pred  moa\n",
      "moa_pred                  moa                                     \n",
      "Actin disruptors          Actin disruptors                  4    4\n",
      "                          Microtubule destabilizers         2    2\n",
      "Aurora kinase inhibitors  Aurora kinase inhibitors         12   12\n",
      "Cholesterol-lowering      Cholesterol-lowering              6    6\n",
      "DMSO                      DNA damage                        1    1\n",
      "                          DNA replication                   1    1\n",
      "                          Protein degradation               5    5\n",
      "DNA damage                DMSO                              1    1\n",
      "                          DNA damage                        8    8\n",
      "                          DNA replication                   1    1\n",
      "DNA replication           DNA replication                   4    4\n",
      "Eg5 inhibitors            Eg5 inhibitors                   10   10\n",
      "                          Microtubule destabilizers         2    2\n",
      "Epithelial                Actin disruptors                  1    1\n",
      "                          Epithelial                        8    8\n",
      "Kinase inhibitors         Kinase inhibitors                 5    5\n",
      "Microtubule destabilizers Microtubule destabilizers         8    8\n",
      "Microtubule stabilizers   Eg5 inhibitors                    2    2\n",
      "                          Microtubule destabilizers         1    1\n",
      "                          Microtubule stabilizers           9    9\n",
      "Protein degradation       DNA replication                   2    2\n",
      "                          Microtubule destabilizers         1    1\n",
      "                          Protein degradation               2    2\n",
      "Protein synthesis         Protein synthesis                 8    8\n"
     ]
    },
    {
     "name": "stderr",
     "output_type": "stream",
     "text": [
      "/var/folders/t_/nfzp77bj23v7ypcy679dgp_80000gn/T/ipykernel_7393/3021602334.py:1: FutureWarning: Indexing with multiple keys (implicitly converted to a tuple of keys) will be deprecated, use a list instead.\n",
      "  print(treatment_profiles_df.groupby(['moa_pred', 'moa'])['moa_pred', 'moa'].count())\n"
     ]
    },
    {
     "data": {
      "text/html": [
       "<div>\n",
       "<style scoped>\n",
       "    .dataframe tbody tr th:only-of-type {\n",
       "        vertical-align: middle;\n",
       "    }\n",
       "\n",
       "    .dataframe tbody tr th {\n",
       "        vertical-align: top;\n",
       "    }\n",
       "\n",
       "    .dataframe thead th {\n",
       "        text-align: right;\n",
       "    }\n",
       "</style>\n",
       "<table border=\"1\" class=\"dataframe\">\n",
       "  <thead>\n",
       "    <tr style=\"text-align: right;\">\n",
       "      <th>moa_pred</th>\n",
       "      <th>Actin disruptors</th>\n",
       "      <th>Aurora kinase inhibitors</th>\n",
       "      <th>Cholesterol-lowering</th>\n",
       "      <th>DMSO</th>\n",
       "      <th>DNA damage</th>\n",
       "      <th>DNA replication</th>\n",
       "      <th>Eg5 inhibitors</th>\n",
       "      <th>Epithelial</th>\n",
       "      <th>Kinase inhibitors</th>\n",
       "      <th>Microtubule destabilizers</th>\n",
       "      <th>Microtubule stabilizers</th>\n",
       "      <th>Protein degradation</th>\n",
       "      <th>Protein synthesis</th>\n",
       "    </tr>\n",
       "    <tr>\n",
       "      <th>moa</th>\n",
       "      <th></th>\n",
       "      <th></th>\n",
       "      <th></th>\n",
       "      <th></th>\n",
       "      <th></th>\n",
       "      <th></th>\n",
       "      <th></th>\n",
       "      <th></th>\n",
       "      <th></th>\n",
       "      <th></th>\n",
       "      <th></th>\n",
       "      <th></th>\n",
       "      <th></th>\n",
       "    </tr>\n",
       "  </thead>\n",
       "  <tbody>\n",
       "    <tr>\n",
       "      <th>Actin disruptors</th>\n",
       "      <td>4.0</td>\n",
       "      <td>NaN</td>\n",
       "      <td>NaN</td>\n",
       "      <td>NaN</td>\n",
       "      <td>NaN</td>\n",
       "      <td>NaN</td>\n",
       "      <td>NaN</td>\n",
       "      <td>1.0</td>\n",
       "      <td>NaN</td>\n",
       "      <td>NaN</td>\n",
       "      <td>NaN</td>\n",
       "      <td>NaN</td>\n",
       "      <td>NaN</td>\n",
       "    </tr>\n",
       "    <tr>\n",
       "      <th>Aurora kinase inhibitors</th>\n",
       "      <td>NaN</td>\n",
       "      <td>12.0</td>\n",
       "      <td>NaN</td>\n",
       "      <td>NaN</td>\n",
       "      <td>NaN</td>\n",
       "      <td>NaN</td>\n",
       "      <td>NaN</td>\n",
       "      <td>NaN</td>\n",
       "      <td>NaN</td>\n",
       "      <td>NaN</td>\n",
       "      <td>NaN</td>\n",
       "      <td>NaN</td>\n",
       "      <td>NaN</td>\n",
       "    </tr>\n",
       "    <tr>\n",
       "      <th>Cholesterol-lowering</th>\n",
       "      <td>NaN</td>\n",
       "      <td>NaN</td>\n",
       "      <td>6.0</td>\n",
       "      <td>NaN</td>\n",
       "      <td>NaN</td>\n",
       "      <td>NaN</td>\n",
       "      <td>NaN</td>\n",
       "      <td>NaN</td>\n",
       "      <td>NaN</td>\n",
       "      <td>NaN</td>\n",
       "      <td>NaN</td>\n",
       "      <td>NaN</td>\n",
       "      <td>NaN</td>\n",
       "    </tr>\n",
       "    <tr>\n",
       "      <th>DMSO</th>\n",
       "      <td>NaN</td>\n",
       "      <td>NaN</td>\n",
       "      <td>NaN</td>\n",
       "      <td>NaN</td>\n",
       "      <td>1.0</td>\n",
       "      <td>NaN</td>\n",
       "      <td>NaN</td>\n",
       "      <td>NaN</td>\n",
       "      <td>NaN</td>\n",
       "      <td>NaN</td>\n",
       "      <td>NaN</td>\n",
       "      <td>NaN</td>\n",
       "      <td>NaN</td>\n",
       "    </tr>\n",
       "    <tr>\n",
       "      <th>DNA damage</th>\n",
       "      <td>NaN</td>\n",
       "      <td>NaN</td>\n",
       "      <td>NaN</td>\n",
       "      <td>1.0</td>\n",
       "      <td>8.0</td>\n",
       "      <td>NaN</td>\n",
       "      <td>NaN</td>\n",
       "      <td>NaN</td>\n",
       "      <td>NaN</td>\n",
       "      <td>NaN</td>\n",
       "      <td>NaN</td>\n",
       "      <td>NaN</td>\n",
       "      <td>NaN</td>\n",
       "    </tr>\n",
       "    <tr>\n",
       "      <th>DNA replication</th>\n",
       "      <td>NaN</td>\n",
       "      <td>NaN</td>\n",
       "      <td>NaN</td>\n",
       "      <td>1.0</td>\n",
       "      <td>1.0</td>\n",
       "      <td>4.0</td>\n",
       "      <td>NaN</td>\n",
       "      <td>NaN</td>\n",
       "      <td>NaN</td>\n",
       "      <td>NaN</td>\n",
       "      <td>NaN</td>\n",
       "      <td>2.0</td>\n",
       "      <td>NaN</td>\n",
       "    </tr>\n",
       "    <tr>\n",
       "      <th>Eg5 inhibitors</th>\n",
       "      <td>NaN</td>\n",
       "      <td>NaN</td>\n",
       "      <td>NaN</td>\n",
       "      <td>NaN</td>\n",
       "      <td>NaN</td>\n",
       "      <td>NaN</td>\n",
       "      <td>10.0</td>\n",
       "      <td>NaN</td>\n",
       "      <td>NaN</td>\n",
       "      <td>NaN</td>\n",
       "      <td>2.0</td>\n",
       "      <td>NaN</td>\n",
       "      <td>NaN</td>\n",
       "    </tr>\n",
       "    <tr>\n",
       "      <th>Epithelial</th>\n",
       "      <td>NaN</td>\n",
       "      <td>NaN</td>\n",
       "      <td>NaN</td>\n",
       "      <td>NaN</td>\n",
       "      <td>NaN</td>\n",
       "      <td>NaN</td>\n",
       "      <td>NaN</td>\n",
       "      <td>8.0</td>\n",
       "      <td>NaN</td>\n",
       "      <td>NaN</td>\n",
       "      <td>NaN</td>\n",
       "      <td>NaN</td>\n",
       "      <td>NaN</td>\n",
       "    </tr>\n",
       "    <tr>\n",
       "      <th>Kinase inhibitors</th>\n",
       "      <td>NaN</td>\n",
       "      <td>NaN</td>\n",
       "      <td>NaN</td>\n",
       "      <td>NaN</td>\n",
       "      <td>NaN</td>\n",
       "      <td>NaN</td>\n",
       "      <td>NaN</td>\n",
       "      <td>NaN</td>\n",
       "      <td>5.0</td>\n",
       "      <td>NaN</td>\n",
       "      <td>NaN</td>\n",
       "      <td>NaN</td>\n",
       "      <td>NaN</td>\n",
       "    </tr>\n",
       "    <tr>\n",
       "      <th>Microtubule destabilizers</th>\n",
       "      <td>2.0</td>\n",
       "      <td>NaN</td>\n",
       "      <td>NaN</td>\n",
       "      <td>NaN</td>\n",
       "      <td>NaN</td>\n",
       "      <td>NaN</td>\n",
       "      <td>2.0</td>\n",
       "      <td>NaN</td>\n",
       "      <td>NaN</td>\n",
       "      <td>8.0</td>\n",
       "      <td>1.0</td>\n",
       "      <td>1.0</td>\n",
       "      <td>NaN</td>\n",
       "    </tr>\n",
       "    <tr>\n",
       "      <th>Microtubule stabilizers</th>\n",
       "      <td>NaN</td>\n",
       "      <td>NaN</td>\n",
       "      <td>NaN</td>\n",
       "      <td>NaN</td>\n",
       "      <td>NaN</td>\n",
       "      <td>NaN</td>\n",
       "      <td>NaN</td>\n",
       "      <td>NaN</td>\n",
       "      <td>NaN</td>\n",
       "      <td>NaN</td>\n",
       "      <td>9.0</td>\n",
       "      <td>NaN</td>\n",
       "      <td>NaN</td>\n",
       "    </tr>\n",
       "    <tr>\n",
       "      <th>Protein degradation</th>\n",
       "      <td>NaN</td>\n",
       "      <td>NaN</td>\n",
       "      <td>NaN</td>\n",
       "      <td>5.0</td>\n",
       "      <td>NaN</td>\n",
       "      <td>NaN</td>\n",
       "      <td>NaN</td>\n",
       "      <td>NaN</td>\n",
       "      <td>NaN</td>\n",
       "      <td>NaN</td>\n",
       "      <td>NaN</td>\n",
       "      <td>2.0</td>\n",
       "      <td>NaN</td>\n",
       "    </tr>\n",
       "    <tr>\n",
       "      <th>Protein synthesis</th>\n",
       "      <td>NaN</td>\n",
       "      <td>NaN</td>\n",
       "      <td>NaN</td>\n",
       "      <td>NaN</td>\n",
       "      <td>NaN</td>\n",
       "      <td>NaN</td>\n",
       "      <td>NaN</td>\n",
       "      <td>NaN</td>\n",
       "      <td>NaN</td>\n",
       "      <td>NaN</td>\n",
       "      <td>NaN</td>\n",
       "      <td>NaN</td>\n",
       "      <td>8.0</td>\n",
       "    </tr>\n",
       "  </tbody>\n",
       "</table>\n",
       "</div>"
      ],
      "text/plain": [
       "moa_pred                   Actin disruptors  Aurora kinase inhibitors  \\\n",
       "moa                                                                     \n",
       "Actin disruptors                        4.0                       NaN   \n",
       "Aurora kinase inhibitors                NaN                      12.0   \n",
       "Cholesterol-lowering                    NaN                       NaN   \n",
       "DMSO                                    NaN                       NaN   \n",
       "DNA damage                              NaN                       NaN   \n",
       "DNA replication                         NaN                       NaN   \n",
       "Eg5 inhibitors                          NaN                       NaN   \n",
       "Epithelial                              NaN                       NaN   \n",
       "Kinase inhibitors                       NaN                       NaN   \n",
       "Microtubule destabilizers               2.0                       NaN   \n",
       "Microtubule stabilizers                 NaN                       NaN   \n",
       "Protein degradation                     NaN                       NaN   \n",
       "Protein synthesis                       NaN                       NaN   \n",
       "\n",
       "moa_pred                   Cholesterol-lowering  DMSO  DNA damage  \\\n",
       "moa                                                                 \n",
       "Actin disruptors                            NaN   NaN         NaN   \n",
       "Aurora kinase inhibitors                    NaN   NaN         NaN   \n",
       "Cholesterol-lowering                        6.0   NaN         NaN   \n",
       "DMSO                                        NaN   NaN         1.0   \n",
       "DNA damage                                  NaN   1.0         8.0   \n",
       "DNA replication                             NaN   1.0         1.0   \n",
       "Eg5 inhibitors                              NaN   NaN         NaN   \n",
       "Epithelial                                  NaN   NaN         NaN   \n",
       "Kinase inhibitors                           NaN   NaN         NaN   \n",
       "Microtubule destabilizers                   NaN   NaN         NaN   \n",
       "Microtubule stabilizers                     NaN   NaN         NaN   \n",
       "Protein degradation                         NaN   5.0         NaN   \n",
       "Protein synthesis                           NaN   NaN         NaN   \n",
       "\n",
       "moa_pred                   DNA replication  Eg5 inhibitors  Epithelial  \\\n",
       "moa                                                                      \n",
       "Actin disruptors                       NaN             NaN         1.0   \n",
       "Aurora kinase inhibitors               NaN             NaN         NaN   \n",
       "Cholesterol-lowering                   NaN             NaN         NaN   \n",
       "DMSO                                   NaN             NaN         NaN   \n",
       "DNA damage                             NaN             NaN         NaN   \n",
       "DNA replication                        4.0             NaN         NaN   \n",
       "Eg5 inhibitors                         NaN            10.0         NaN   \n",
       "Epithelial                             NaN             NaN         8.0   \n",
       "Kinase inhibitors                      NaN             NaN         NaN   \n",
       "Microtubule destabilizers              NaN             2.0         NaN   \n",
       "Microtubule stabilizers                NaN             NaN         NaN   \n",
       "Protein degradation                    NaN             NaN         NaN   \n",
       "Protein synthesis                      NaN             NaN         NaN   \n",
       "\n",
       "moa_pred                   Kinase inhibitors  Microtubule destabilizers  \\\n",
       "moa                                                                       \n",
       "Actin disruptors                         NaN                        NaN   \n",
       "Aurora kinase inhibitors                 NaN                        NaN   \n",
       "Cholesterol-lowering                     NaN                        NaN   \n",
       "DMSO                                     NaN                        NaN   \n",
       "DNA damage                               NaN                        NaN   \n",
       "DNA replication                          NaN                        NaN   \n",
       "Eg5 inhibitors                           NaN                        NaN   \n",
       "Epithelial                               NaN                        NaN   \n",
       "Kinase inhibitors                        5.0                        NaN   \n",
       "Microtubule destabilizers                NaN                        8.0   \n",
       "Microtubule stabilizers                  NaN                        NaN   \n",
       "Protein degradation                      NaN                        NaN   \n",
       "Protein synthesis                        NaN                        NaN   \n",
       "\n",
       "moa_pred                   Microtubule stabilizers  Protein degradation  \\\n",
       "moa                                                                       \n",
       "Actin disruptors                               NaN                  NaN   \n",
       "Aurora kinase inhibitors                       NaN                  NaN   \n",
       "Cholesterol-lowering                           NaN                  NaN   \n",
       "DMSO                                           NaN                  NaN   \n",
       "DNA damage                                     NaN                  NaN   \n",
       "DNA replication                                NaN                  2.0   \n",
       "Eg5 inhibitors                                 2.0                  NaN   \n",
       "Epithelial                                     NaN                  NaN   \n",
       "Kinase inhibitors                              NaN                  NaN   \n",
       "Microtubule destabilizers                      1.0                  1.0   \n",
       "Microtubule stabilizers                        9.0                  NaN   \n",
       "Protein degradation                            NaN                  2.0   \n",
       "Protein synthesis                              NaN                  NaN   \n",
       "\n",
       "moa_pred                   Protein synthesis  \n",
       "moa                                           \n",
       "Actin disruptors                         NaN  \n",
       "Aurora kinase inhibitors                 NaN  \n",
       "Cholesterol-lowering                     NaN  \n",
       "DMSO                                     NaN  \n",
       "DNA damage                               NaN  \n",
       "DNA replication                          NaN  \n",
       "Eg5 inhibitors                           NaN  \n",
       "Epithelial                               NaN  \n",
       "Kinase inhibitors                        NaN  \n",
       "Microtubule destabilizers                NaN  \n",
       "Microtubule stabilizers                  NaN  \n",
       "Protein degradation                      NaN  \n",
       "Protein synthesis                        8.0  "
      ]
     },
     "execution_count": 47,
     "metadata": {},
     "output_type": "execute_result"
    }
   ],
   "source": [
    "print(treatment_profiles_df.groupby(['moa_pred', 'moa'])['moa_pred', 'moa'].count())\n",
    "\n",
    "treatment_profiles_df['all']=1\n",
    "treatment_profiles_df.pivot_table(values = \"all\", index='moa', columns='moa_pred', aggfunc=np.sum)"
   ]
  },
  {
   "cell_type": "code",
   "execution_count": 48,
   "id": "597e4515-4003-4d0d-865b-ba27f4c39242",
   "metadata": {},
   "outputs": [
    {
     "data": {
      "image/png": "[encoded data removed]",
      "text/plain": [
       "<Figure size 800x400 with 2 Axes>"
      ]
     },
     "metadata": {},
     "output_type": "display_data"
    },
    {
     "data": {
      "text/plain": [
       "<Figure size 640x480 with 0 Axes>"
      ]
     },
     "metadata": {},
     "output_type": "display_data"
    }
   ],
   "source": [
    "from sklearn.metrics import confusion_matrix\n",
    "cf_matrix=confusion_matrix(treatment_profiles_df['moa'], treatment_profiles_df['moa_pred'])  \n",
    "df_cm = pd.DataFrame(cf_matrix, index = [i for i in mapping],\n",
    "                     columns = [i for i in mapping])\n",
    "plt.figure(figsize = (8,4))\n",
    "sns.heatmap(df_cm, annot=True)\n",
    "plt.show()\n",
    "plt.savefig(output_folder + \"confusionmatrix.png\")\n",
    "\n"
   ]
  },
  {
   "cell_type": "code",
   "execution_count": 49,
   "id": "288cabc2-8dcd-42f8-a458-764c818be6c7",
   "metadata": {},
   "outputs": [
    {
     "data": {
      "image/png": "[encoded data removed]",
      "text/plain": [
       "<Figure size 800x400 with 2 Axes>"
      ]
     },
     "metadata": {},
     "output_type": "display_data"
    }
   ],
   "source": [
    "from sklearn.metrics import confusion_matrix\n",
    "cf_matrix=confusion_matrix(treatment_profiles_df['moa'], treatment_profiles_df['moa_pred'])  \n",
    "df_cm = pd.DataFrame(cf_matrix, index = [i for i in mapping],\n",
    "                     columns = [i for i in mapping])\n",
    "plt.figure(figsize = (8,4))\n",
    "svm = sns.heatmap(df_cm, annot=True)\n",
    "figure = svm.get_figure()    \n",
    "figure.savefig(output_folder + \"confusionmatrix.png\", dpi=400)\n",
    "plt.show()\n"
   ]
  },
  {
   "cell_type": "code",
   "execution_count": 50,
   "id": "852d8f99-4ddf-4752-bffc-23f4affaae94",
   "metadata": {},
   "outputs": [
    {
     "name": "stdout",
     "output_type": "stream",
     "text": [
      "                           precision    recall  f1-score   support\n",
      "\n",
      "         Actin disruptors     0.6667    0.8000    0.7273         5\n",
      " Aurora kinase inhibitors     1.0000    1.0000    1.0000        12\n",
      "     Cholesterol-lowering     1.0000    1.0000    1.0000         6\n",
      "                     DMSO     0.0000    0.0000    0.0000         1\n",
      "               DNA damage     0.8000    0.8889    0.8421         9\n",
      "          DNA replication     1.0000    0.5000    0.6667         8\n",
      "           Eg5 inhibitors     0.8333    0.8333    0.8333        12\n",
      "               Epithelial     0.8889    1.0000    0.9412         8\n",
      "        Kinase inhibitors     1.0000    1.0000    1.0000         5\n",
      "Microtubule destabilizers     1.0000    0.5714    0.7273        14\n",
      "  Microtubule stabilizers     0.7500    1.0000    0.8571         9\n",
      "      Protein degradation     0.4000    0.2857    0.3333         7\n",
      "        Protein synthesis     1.0000    1.0000    1.0000         8\n",
      "\n",
      "                 accuracy                         0.8077       104\n",
      "                macro avg     0.7953    0.7600    0.7637       104\n",
      "             weighted avg     0.8673    0.8077    0.8203       104\n",
      "\n"
     ]
    }
   ],
   "source": [
    "from sklearn import metrics\n",
    "print(metrics.classification_report(treatment_profiles_df['moa'], treatment_profiles_df['moa_pred'], digits=4))"
   ]
  },
  {
   "cell_type": "code",
   "execution_count": 51,
   "id": "411f2371-d0f4-4d61-a39b-ecb78a06c74b",
   "metadata": {},
   "outputs": [],
   "source": [
    "report = metrics.classification_report(treatment_profiles_df['moa'], treatment_profiles_df['moa_pred'], digits=4)\n",
    "filereport = open(output_folder + \"accuracy_report.txt\", \"w\")\n",
    "filereport.write(report)\n",
    "filereport.close()"
   ]
  },
  {
   "cell_type": "code",
   "execution_count": 52,
   "id": "9df8578e-9820-4d58-98ac-7270098502b3",
   "metadata": {},
   "outputs": [
    {
     "name": "stdout",
     "output_type": "stream",
     "text": [
      "962\n",
      "50000\n"
     ]
    },
    {
     "data": {
      "text/plain": [
       "<Figure size 2000x1000 with 0 Axes>"
      ]
     },
     "execution_count": 52,
     "metadata": {},
     "output_type": "execute_result"
    },
    {
     "data": {
      "text/plain": [
       "<Figure size 2000x1000 with 0 Axes>"
      ]
     },
     "metadata": {},
     "output_type": "display_data"
    }
   ],
   "source": [
    "from sklearn.metrics import confusion_matrix\n",
    "mean_over_treatment_well_unique = metadata_latent.groupby(['Treatment','Well_unique' ], as_index=False).mean()\n",
    "print(len(mean_over_treatment_well_unique))\n",
    "print(len(metadata_latent))\n",
    "\n",
    "plt.figure(figsize = (20,10))\n",
    "#sns.heatmap(treatment_profiles_df.set_index('Treatment')[latent_cols])\n",
    "#sns.heatmap(metadata_latent[latent_cols][0:100])\n",
    "#sns.heatmap(mean_over_treatment_well_unique[latent_cols][100:200])"
   ]
  },
  {
   "cell_type": "code",
   "execution_count": null,
   "id": "3e134f8e-028a-4841-bb00-b9031392aa1c",
   "metadata": {},
   "outputs": [],
   "source": []
  },
  {
   "cell_type": "code",
   "execution_count": 53,
   "id": "3e0a26c6-dcb3-4d9f-bca6-f27c7e7dc786",
   "metadata": {},
   "outputs": [
    {
     "data": {
      "text/html": [
       "<div>\n",
       "<style scoped>\n",
       "    .dataframe tbody tr th:only-of-type {\n",
       "        vertical-align: middle;\n",
       "    }\n",
       "\n",
       "    .dataframe tbody tr th {\n",
       "        vertical-align: top;\n",
       "    }\n",
       "\n",
       "    .dataframe thead th {\n",
       "        text-align: right;\n",
       "    }\n",
       "</style>\n",
       "<table border=\"1\" class=\"dataframe\">\n",
       "  <thead>\n",
       "    <tr style=\"text-align: right;\">\n",
       "      <th></th>\n",
       "      <th>Treatment</th>\n",
       "      <th>Image_Metadata_Compound</th>\n",
       "      <th>Image_Metadata_Concentration</th>\n",
       "      <th>moa</th>\n",
       "      <th>Unnamed: 0</th>\n",
       "      <th>Multi_Cell_Image_Id</th>\n",
       "      <th>Single_Cell_Image_Id</th>\n",
       "      <th>TableNumber</th>\n",
       "      <th>ImageNumber</th>\n",
       "      <th>Replicate</th>\n",
       "      <th>...</th>\n",
       "      <th>latent_248</th>\n",
       "      <th>latent_249</th>\n",
       "      <th>latent_250</th>\n",
       "      <th>latent_251</th>\n",
       "      <th>latent_252</th>\n",
       "      <th>latent_253</th>\n",
       "      <th>latent_254</th>\n",
       "      <th>latent_255</th>\n",
       "      <th>moa_pred</th>\n",
       "      <th>all</th>\n",
       "    </tr>\n",
       "  </thead>\n",
       "  <tbody>\n",
       "    <tr>\n",
       "      <th>0</th>\n",
       "      <td>ALLN_100.0</td>\n",
       "      <td>ALLN</td>\n",
       "      <td>100.00</td>\n",
       "      <td>Protein degradation</td>\n",
       "      <td>113687.913043</td>\n",
       "      <td>1349.416667</td>\n",
       "      <td>28.739130</td>\n",
       "      <td>2.0</td>\n",
       "      <td>326.260870</td>\n",
       "      <td>2.0</td>\n",
       "      <td>...</td>\n",
       "      <td>-0.011119</td>\n",
       "      <td>0.140624</td>\n",
       "      <td>0.234166</td>\n",
       "      <td>0.049487</td>\n",
       "      <td>-0.267997</td>\n",
       "      <td>0.073692</td>\n",
       "      <td>-0.105219</td>\n",
       "      <td>-0.101186</td>\n",
       "      <td>Protein degradation</td>\n",
       "      <td>1</td>\n",
       "    </tr>\n",
       "    <tr>\n",
       "      <th>1</th>\n",
       "      <td>ALLN_3.0</td>\n",
       "      <td>ALLN</td>\n",
       "      <td>3.00</td>\n",
       "      <td>Protein degradation</td>\n",
       "      <td>113997.419355</td>\n",
       "      <td>1362.258065</td>\n",
       "      <td>41.258065</td>\n",
       "      <td>2.0</td>\n",
       "      <td>338.580645</td>\n",
       "      <td>2.0</td>\n",
       "      <td>...</td>\n",
       "      <td>0.039980</td>\n",
       "      <td>-0.067732</td>\n",
       "      <td>-0.041343</td>\n",
       "      <td>0.047517</td>\n",
       "      <td>-0.047368</td>\n",
       "      <td>0.145135</td>\n",
       "      <td>-0.018217</td>\n",
       "      <td>-0.026978</td>\n",
       "      <td>DMSO</td>\n",
       "      <td>1</td>\n",
       "    </tr>\n",
       "    <tr>\n",
       "      <th>2</th>\n",
       "      <td>AZ-A_0.1</td>\n",
       "      <td>AZ-A</td>\n",
       "      <td>0.10</td>\n",
       "      <td>Aurora kinase inhibitors</td>\n",
       "      <td>62979.122449</td>\n",
       "      <td>1158.222222</td>\n",
       "      <td>51.444444</td>\n",
       "      <td>1.0</td>\n",
       "      <td>466.163265</td>\n",
       "      <td>2.0</td>\n",
       "      <td>...</td>\n",
       "      <td>-0.051609</td>\n",
       "      <td>-0.180300</td>\n",
       "      <td>0.021063</td>\n",
       "      <td>-0.052123</td>\n",
       "      <td>0.108942</td>\n",
       "      <td>-0.012829</td>\n",
       "      <td>0.107507</td>\n",
       "      <td>0.040950</td>\n",
       "      <td>Aurora kinase inhibitors</td>\n",
       "      <td>1</td>\n",
       "    </tr>\n",
       "    <tr>\n",
       "      <th>3</th>\n",
       "      <td>AZ-A_0.3</td>\n",
       "      <td>AZ-A</td>\n",
       "      <td>0.30</td>\n",
       "      <td>Aurora kinase inhibitors</td>\n",
       "      <td>62592.052632</td>\n",
       "      <td>1146.230769</td>\n",
       "      <td>63.672414</td>\n",
       "      <td>1.0</td>\n",
       "      <td>462.754386</td>\n",
       "      <td>2.0</td>\n",
       "      <td>...</td>\n",
       "      <td>-0.077776</td>\n",
       "      <td>-0.094991</td>\n",
       "      <td>-0.038327</td>\n",
       "      <td>-0.053844</td>\n",
       "      <td>0.210514</td>\n",
       "      <td>-0.016058</td>\n",
       "      <td>0.107664</td>\n",
       "      <td>0.061415</td>\n",
       "      <td>Aurora kinase inhibitors</td>\n",
       "      <td>1</td>\n",
       "    </tr>\n",
       "    <tr>\n",
       "      <th>4</th>\n",
       "      <td>AZ-A_1.0</td>\n",
       "      <td>AZ-A</td>\n",
       "      <td>1.00</td>\n",
       "      <td>Aurora kinase inhibitors</td>\n",
       "      <td>62125.409091</td>\n",
       "      <td>1134.400000</td>\n",
       "      <td>56.500000</td>\n",
       "      <td>1.0</td>\n",
       "      <td>458.454545</td>\n",
       "      <td>2.0</td>\n",
       "      <td>...</td>\n",
       "      <td>-0.069266</td>\n",
       "      <td>-0.046135</td>\n",
       "      <td>-0.021239</td>\n",
       "      <td>0.034566</td>\n",
       "      <td>0.083299</td>\n",
       "      <td>0.000724</td>\n",
       "      <td>0.085505</td>\n",
       "      <td>0.066507</td>\n",
       "      <td>Aurora kinase inhibitors</td>\n",
       "      <td>1</td>\n",
       "    </tr>\n",
       "    <tr>\n",
       "      <th>...</th>\n",
       "      <td>...</td>\n",
       "      <td>...</td>\n",
       "      <td>...</td>\n",
       "      <td>...</td>\n",
       "      <td>...</td>\n",
       "      <td>...</td>\n",
       "      <td>...</td>\n",
       "      <td>...</td>\n",
       "      <td>...</td>\n",
       "      <td>...</td>\n",
       "      <td>...</td>\n",
       "      <td>...</td>\n",
       "      <td>...</td>\n",
       "      <td>...</td>\n",
       "      <td>...</td>\n",
       "      <td>...</td>\n",
       "      <td>...</td>\n",
       "      <td>...</td>\n",
       "      <td>...</td>\n",
       "      <td>...</td>\n",
       "      <td>...</td>\n",
       "    </tr>\n",
       "    <tr>\n",
       "      <th>99</th>\n",
       "      <td>vincristine_0.03</td>\n",
       "      <td>vincristine</td>\n",
       "      <td>0.03</td>\n",
       "      <td>Microtubule destabilizers</td>\n",
       "      <td>158200.741935</td>\n",
       "      <td>1674.464286</td>\n",
       "      <td>41.548387</td>\n",
       "      <td>3.0</td>\n",
       "      <td>266.580645</td>\n",
       "      <td>2.0</td>\n",
       "      <td>...</td>\n",
       "      <td>0.073943</td>\n",
       "      <td>-0.139005</td>\n",
       "      <td>0.018404</td>\n",
       "      <td>0.065157</td>\n",
       "      <td>-0.038280</td>\n",
       "      <td>-0.014504</td>\n",
       "      <td>0.092731</td>\n",
       "      <td>0.029686</td>\n",
       "      <td>Microtubule destabilizers</td>\n",
       "      <td>1</td>\n",
       "    </tr>\n",
       "    <tr>\n",
       "      <th>100</th>\n",
       "      <td>vincristine_0.1</td>\n",
       "      <td>vincristine</td>\n",
       "      <td>0.10</td>\n",
       "      <td>Microtubule destabilizers</td>\n",
       "      <td>157942.857143</td>\n",
       "      <td>1661.967742</td>\n",
       "      <td>35.904762</td>\n",
       "      <td>3.0</td>\n",
       "      <td>262.238095</td>\n",
       "      <td>2.0</td>\n",
       "      <td>...</td>\n",
       "      <td>0.080311</td>\n",
       "      <td>0.007860</td>\n",
       "      <td>-0.017881</td>\n",
       "      <td>0.036931</td>\n",
       "      <td>-0.168193</td>\n",
       "      <td>0.028120</td>\n",
       "      <td>0.062606</td>\n",
       "      <td>0.002122</td>\n",
       "      <td>Microtubule destabilizers</td>\n",
       "      <td>1</td>\n",
       "    </tr>\n",
       "    <tr>\n",
       "      <th>101</th>\n",
       "      <td>vincristine_0.3</td>\n",
       "      <td>vincristine</td>\n",
       "      <td>0.30</td>\n",
       "      <td>Microtubule destabilizers</td>\n",
       "      <td>157672.928571</td>\n",
       "      <td>1644.208333</td>\n",
       "      <td>34.250000</td>\n",
       "      <td>3.0</td>\n",
       "      <td>258.035714</td>\n",
       "      <td>2.0</td>\n",
       "      <td>...</td>\n",
       "      <td>0.086226</td>\n",
       "      <td>0.087654</td>\n",
       "      <td>-0.018167</td>\n",
       "      <td>0.141717</td>\n",
       "      <td>-0.068276</td>\n",
       "      <td>-0.029209</td>\n",
       "      <td>0.057732</td>\n",
       "      <td>-0.015288</td>\n",
       "      <td>Microtubule destabilizers</td>\n",
       "      <td>1</td>\n",
       "    </tr>\n",
       "    <tr>\n",
       "      <th>102</th>\n",
       "      <td>vincristine_1.0</td>\n",
       "      <td>vincristine</td>\n",
       "      <td>1.00</td>\n",
       "      <td>Microtubule destabilizers</td>\n",
       "      <td>157426.500000</td>\n",
       "      <td>1618.033333</td>\n",
       "      <td>36.562500</td>\n",
       "      <td>3.0</td>\n",
       "      <td>253.900000</td>\n",
       "      <td>2.0</td>\n",
       "      <td>...</td>\n",
       "      <td>0.108900</td>\n",
       "      <td>0.012256</td>\n",
       "      <td>0.036848</td>\n",
       "      <td>0.006936</td>\n",
       "      <td>-0.065049</td>\n",
       "      <td>0.010794</td>\n",
       "      <td>0.056822</td>\n",
       "      <td>-0.045188</td>\n",
       "      <td>Eg5 inhibitors</td>\n",
       "      <td>1</td>\n",
       "    </tr>\n",
       "    <tr>\n",
       "      <th>103</th>\n",
       "      <td>vincristine_3.0</td>\n",
       "      <td>vincristine</td>\n",
       "      <td>3.00</td>\n",
       "      <td>Microtubule destabilizers</td>\n",
       "      <td>157193.125000</td>\n",
       "      <td>1595.277778</td>\n",
       "      <td>31.739130</td>\n",
       "      <td>3.0</td>\n",
       "      <td>250.083333</td>\n",
       "      <td>2.0</td>\n",
       "      <td>...</td>\n",
       "      <td>0.033730</td>\n",
       "      <td>0.049683</td>\n",
       "      <td>0.172231</td>\n",
       "      <td>0.065284</td>\n",
       "      <td>-0.254821</td>\n",
       "      <td>-0.028390</td>\n",
       "      <td>0.023036</td>\n",
       "      <td>-0.002727</td>\n",
       "      <td>Microtubule stabilizers</td>\n",
       "      <td>1</td>\n",
       "    </tr>\n",
       "  </tbody>\n",
       "</table>\n",
       "<p>104 rows × 269 columns</p>\n",
       "</div>"
      ],
      "text/plain": [
       "            Treatment Image_Metadata_Compound  Image_Metadata_Concentration  \\\n",
       "0          ALLN_100.0                    ALLN                        100.00   \n",
       "1            ALLN_3.0                    ALLN                          3.00   \n",
       "2            AZ-A_0.1                    AZ-A                          0.10   \n",
       "3            AZ-A_0.3                    AZ-A                          0.30   \n",
       "4            AZ-A_1.0                    AZ-A                          1.00   \n",
       "..                ...                     ...                           ...   \n",
       "99   vincristine_0.03             vincristine                          0.03   \n",
       "100   vincristine_0.1             vincristine                          0.10   \n",
       "101   vincristine_0.3             vincristine                          0.30   \n",
       "102   vincristine_1.0             vincristine                          1.00   \n",
       "103   vincristine_3.0             vincristine                          3.00   \n",
       "\n",
       "                           moa     Unnamed: 0  Multi_Cell_Image_Id  \\\n",
       "0          Protein degradation  113687.913043          1349.416667   \n",
       "1          Protein degradation  113997.419355          1362.258065   \n",
       "2     Aurora kinase inhibitors   62979.122449          1158.222222   \n",
       "3     Aurora kinase inhibitors   62592.052632          1146.230769   \n",
       "4     Aurora kinase inhibitors   62125.409091          1134.400000   \n",
       "..                         ...            ...                  ...   \n",
       "99   Microtubule destabilizers  158200.741935          1674.464286   \n",
       "100  Microtubule destabilizers  157942.857143          1661.967742   \n",
       "101  Microtubule destabilizers  157672.928571          1644.208333   \n",
       "102  Microtubule destabilizers  157426.500000          1618.033333   \n",
       "103  Microtubule destabilizers  157193.125000          1595.277778   \n",
       "\n",
       "     Single_Cell_Image_Id  TableNumber  ImageNumber  Replicate  ...  \\\n",
       "0               28.739130          2.0   326.260870        2.0  ...   \n",
       "1               41.258065          2.0   338.580645        2.0  ...   \n",
       "2               51.444444          1.0   466.163265        2.0  ...   \n",
       "3               63.672414          1.0   462.754386        2.0  ...   \n",
       "4               56.500000          1.0   458.454545        2.0  ...   \n",
       "..                    ...          ...          ...        ...  ...   \n",
       "99              41.548387          3.0   266.580645        2.0  ...   \n",
       "100             35.904762          3.0   262.238095        2.0  ...   \n",
       "101             34.250000          3.0   258.035714        2.0  ...   \n",
       "102             36.562500          3.0   253.900000        2.0  ...   \n",
       "103             31.739130          3.0   250.083333        2.0  ...   \n",
       "\n",
       "     latent_248  latent_249  latent_250  latent_251  latent_252  latent_253  \\\n",
       "0     -0.011119    0.140624    0.234166    0.049487   -0.267997    0.073692   \n",
       "1      0.039980   -0.067732   -0.041343    0.047517   -0.047368    0.145135   \n",
       "2     -0.051609   -0.180300    0.021063   -0.052123    0.108942   -0.012829   \n",
       "3     -0.077776   -0.094991   -0.038327   -0.053844    0.210514   -0.016058   \n",
       "4     -0.069266   -0.046135   -0.021239    0.034566    0.083299    0.000724   \n",
       "..          ...         ...         ...         ...         ...         ...   \n",
       "99     0.073943   -0.139005    0.018404    0.065157   -0.038280   -0.014504   \n",
       "100    0.080311    0.007860   -0.017881    0.036931   -0.168193    0.028120   \n",
       "101    0.086226    0.087654   -0.018167    0.141717   -0.068276   -0.029209   \n",
       "102    0.108900    0.012256    0.036848    0.006936   -0.065049    0.010794   \n",
       "103    0.033730    0.049683    0.172231    0.065284   -0.254821   -0.028390   \n",
       "\n",
       "     latent_254  latent_255                   moa_pred  all  \n",
       "0     -0.105219   -0.101186        Protein degradation    1  \n",
       "1     -0.018217   -0.026978                       DMSO    1  \n",
       "2      0.107507    0.040950   Aurora kinase inhibitors    1  \n",
       "3      0.107664    0.061415   Aurora kinase inhibitors    1  \n",
       "4      0.085505    0.066507   Aurora kinase inhibitors    1  \n",
       "..          ...         ...                        ...  ...  \n",
       "99     0.092731    0.029686  Microtubule destabilizers    1  \n",
       "100    0.062606    0.002122  Microtubule destabilizers    1  \n",
       "101    0.057732   -0.015288  Microtubule destabilizers    1  \n",
       "102    0.056822   -0.045188             Eg5 inhibitors    1  \n",
       "103    0.023036   -0.002727    Microtubule stabilizers    1  \n",
       "\n",
       "[104 rows x 269 columns]"
      ]
     },
     "metadata": {},
     "output_type": "display_data"
    }
   ],
   "source": [
    "class_var = 'moa'\n",
    "p=2\n",
    "\n",
    "for compound in metadata_latent[NSC_var].unique():\n",
    "    #print(\"\\nBeginning compound: \", compound)\n",
    "    A_set = treatment_profiles_df[treatment_profiles_df['Image_Metadata_Compound'] == compound]\n",
    "    B_set = treatment_profiles_df[treatment_profiles_df['Image_Metadata_Compound'] != compound]\n",
    "    #print(\"A_set.columns[0:20]: \", A_set.columns[0:20])\n",
    "    #closest_neighbour = []\n",
    "    for A in A_set.index:\n",
    "        A_treatment = A_set.loc[A]['Treatment']\n",
    "        #print('A_treatment: ', A_treatment)\n",
    "        diffs = (abs(B_set[latent_cols] - A_set.loc[A][latent_cols]))**p\n",
    "        diffs_sum = diffs.sum(axis=1)**(1/p)\n",
    "        diffs_min = diffs_sum.min()\n",
    "        #print(treatment_profiles_df.loc[treatment_profiles_df['Treatment']==A_treatment])\n",
    "        #print(\"diffs[diffs_sum == diffs_min]\", diffs[diffs_sum == diffs_min])\n",
    "        treatment_profiles_df.loc[treatment_profiles_df['Treatment']==A_treatment,'moa_pred'] = B_set.at[diffs[diffs_sum == diffs_min].index[0], 'moa']\n",
    "        #closest_neighbour.append(diffs[diffs_sum == diffs_min].index[0])\n",
    "display(treatment_profiles_df)"
   ]
  },
  {
   "cell_type": "code",
   "execution_count": 54,
   "id": "66d650d6-f618-45cf-8ed5-a2ef1a658682",
   "metadata": {},
   "outputs": [],
   "source": [
    "def treatment_profile_for_week(nm, week, treatment):\n",
    "  df_cells_week_treatment = nm[(nm['week'] == week ) & (nm['Treatment'] == treatment)]\n",
    "  mean_over_treatment_well_unique = df_cells_week_treatment.groupby(['Treatment', 'Image_Metadata_Compound', 'Image_Metadata_Concentration','Well_unique', 'week', 'moa'], as_index=False).mean()\n",
    "  cells_week_treatment_profile = mean_over_treatment_well_unique.groupby(['Treatment', 'Image_Metadata_Compound', 'Image_Metadata_Concentration', 'week', 'moa'], as_index=False).median()\n",
    "  return cells_week_treatment_profile\n",
    "\n",
    "def treatment_profile_remaining(nm, week, treatment):\n",
    "  df_cells_not_week_treatment = nm[(nm['week'] != week ) & (nm['Treatment'] != treatment)]\n",
    "  mean_over_treatment_well_unique = df_cells_not_week_treatment.groupby(['Treatment', 'Image_Metadata_Compound', 'Image_Metadata_Concentration','Well_unique', 'week', 'moa'], as_index=False).mean()\n",
    "  cells_not_week_treatment_profile = mean_over_treatment_well_unique.groupby(['Treatment', 'Image_Metadata_Compound', 'Image_Metadata_Concentration', 'week', 'moa'], as_index=False).median()\n",
    "  return cells_not_week_treatment_profile\n"
   ]
  },
  {
   "cell_type": "code",
   "execution_count": 55,
   "id": "1e57b03b-29ae-4f8c-af59-d211997ab08e",
   "metadata": {},
   "outputs": [
    {
     "name": "stdout",
     "output_type": "stream",
     "text": [
      "skipping\n"
     ]
    }
   ],
   "source": [
    "%%script echo skipping\n",
    "\n",
    "\n",
    "NSC_var = 'Image_Metadata_Compound'\n",
    "class_var = 'moa'\n",
    "p=2\n",
    "\n",
    "metadata_latent_interrim = metadata_latent.groupby(['Treatment', 'week'], as_index=False).size()\n",
    "\n",
    "treatment_week_profiles_df = pd.DataFrame(columns=metadata_latent.columns)\n",
    "\n",
    "for index, row in metadata_latent_interrim.iterrows():\n",
    "#for week, treatment in metadata_latent_interrim():\n",
    "    print(\"index: {}/{}\".format(index, len(metadata_latent_interrim)))\n",
    "    treatment = row['Treatment']\n",
    "    week = row['week']\n",
    "    A_treatment_week = treatment_profile_for_week(metadata_latent, week, treatment)\n",
    "    B_remain = treatment_profile_remaining(metadata_latent, week, treatment)\n",
    "    \n",
    "    diffs = (abs(B_remain[latent_cols] - A_treatment_week[latent_cols]))**p\n",
    "    diffs_sum = diffs.sum(axis=1)**(1/p)\n",
    "    diffs_min = diffs_sum.min()\n",
    "    treatment_profiles_df.loc[treatment_profiles_df['Treatment']==A_treatment,'moa_pred'] = B_remain.at[diffs[diffs_sum == diffs_min].index[0], 'moa']\n",
    "    res = B_remain.at[diffs[diffs_sum == diffs_min].index[0], 'moa']\n",
    "    A_treatment_week['moa_pred'] = res\n",
    "    treatment_week_profiles_df = pd.concat([treatment_week_profiles_df, A_treatment_week], axis=0)"
   ]
  },
  {
   "cell_type": "code",
   "execution_count": 56,
   "id": "7d038594-a16f-416f-b157-e90184192904",
   "metadata": {},
   "outputs": [
    {
     "name": "stdout",
     "output_type": "stream",
     "text": [
      "skipping\n"
     ]
    }
   ],
   "source": [
    "%%script echo skipping\n",
    "\n",
    "from sklearn.metrics import confusion_matrix\n",
    "cf_matrix=confusion_matrix(treatment_week_profiles_df['moa'], treatment_week_profiles_df['moa_pred'])  \n",
    "df_cm = pd.DataFrame(cf_matrix, index = [i for i in mapping],\n",
    "                     columns = [i for i in mapping])\n",
    "plt.figure(figsize = (8,4))\n",
    "sns.heatmap(df_cm, annot=True)"
   ]
  },
  {
   "cell_type": "code",
   "execution_count": 57,
   "id": "f6bcdba4-265d-4dfa-8c94-64c1bd58f114",
   "metadata": {},
   "outputs": [
    {
     "name": "stdout",
     "output_type": "stream",
     "text": [
      "skipping\n"
     ]
    }
   ],
   "source": [
    "%%script echo skipping\n",
    "\n",
    "from sklearn import metrics\n",
    "print(metrics.classification_report(treatment_week_profiles_df['moa'], treatment_week_profiles_df['moa_pred']))"
   ]
  },
  {
   "cell_type": "code",
   "execution_count": null,
   "id": "fca58aba-f57c-45f1-975e-72804acb45e9",
   "metadata": {},
   "outputs": [],
   "source": []
  },
  {
   "cell_type": "markdown",
   "id": "c0186a69-29af-491f-8031-c7fa7f8f999f",
   "metadata": {},
   "source": [
    "# morph plotting"
   ]
  },
  {
   "cell_type": "code",
   "execution_count": 58,
   "id": "efcceb91-3225-430a-86e8-40cfd2ddfd84",
   "metadata": {},
   "outputs": [],
   "source": [
    "import sklearn\n",
    "\n",
    "def plot_cosine_similarity(x0, x1, model, file=None, title=None, control_text=\"Control\",  target_text=\"Target\"):\n",
    "    #model could be eg. \"model_dump/outputs_2022-12-04 - 12-20-15/\"\n",
    "    #x0.shape and x1.shape should be torch.Size([3, 68, 68])\n",
    "    \n",
    "    #vae, validation_data, training_data, VAE_settings = LoadVAEmodel(model)\n",
    "    vae = model\n",
    "    outputs0 = vae(x0[None,:,:,:])\n",
    "    outputs1 = vae(x1[None,:,:,:])\n",
    "\n",
    "    z0 = outputs0[\"z\"].detach().numpy()\n",
    "    z1 = outputs1[\"z\"].detach().numpy()\n",
    "\n",
    "    zs = [z0] + list(np.linspace(z0, z1, num=8)) + [z1]\n",
    "\n",
    "    #cos = np.CosineSimilarity(dim=1, eps=1e-6)\n",
    "\n",
    "    cp = []\n",
    "    for i in range(len(zs)):\n",
    "        mycosine = sklearn.metrics.pairwise.cosine_similarity(zs[i], z1)[0][0]\n",
    "        #print(\"mycosine\", mycosine)\n",
    "        cp.append(mycosine)\n",
    "        \n",
    "        #cp.append(cos(zs[i], zs[9]).mean().detach().numpy().round(2))\n",
    "\n",
    "    # create figure\n",
    "    fig = plt.figure(figsize=(25, 10))\n",
    "\n",
    "    # setting values to rows and column variables\n",
    "    rows = 1\n",
    "    columns = len(zs)\n",
    "\n",
    "    # Adds a subplot at the 1st position\n",
    "    for i in range(columns):\n",
    "        if i == 0:\n",
    "            fig.add_subplot(rows, columns, i+1)\n",
    "            img = view_as_image_plot_format(x0)\n",
    "            plt.imshow(img)\n",
    "            plt.axis('off')\n",
    "        elif i == columns-1:\n",
    "            fig.add_subplot(rows, columns, i+1)\n",
    "            img = view_as_image_plot_format(x1)\n",
    "            plt.imshow(img)\n",
    "            plt.axis('off')\n",
    "        else:\n",
    "            fig.add_subplot(rows, columns, i+1)\n",
    "            plt.imshow((torch.permute(vae.observation(torch.Tensor(zs[i]))[0], (1, 2, 0)) * 255).detach().numpy().astype(np.uint8))\n",
    "            plt.axis('off')\n",
    "        if i == 0:\n",
    "            plt.title('Control', y=-0.20, fontsize=26)\n",
    "        elif i == len(zs)-1:\n",
    "            plt.title(target_text, y=-0.20, fontsize=26)\n",
    "        else:\n",
    "            plt.title(\"{:.2f}\".format(cp[i]), fontsize=26)\n",
    "    if file == None:\n",
    "        plt.show()\n",
    "    else: \n",
    "        plt.savefig(file)\n",
    "        plt.show()\n",
    "    \n",
    "    plt.close()"
   ]
  },
  {
   "cell_type": "code",
   "execution_count": 59,
   "id": "6befd689-c969-41ac-b697-a6eefbb3c9bd",
   "metadata": {},
   "outputs": [],
   "source": [
    "# Treatment Profiles\n",
    "def treatment_profiles(df):\n",
    "  t = df.groupby(['Treatment','Well_unique'], as_index=False).mean().groupby(['Treatment']).median().iloc[:,-256:]\n",
    "  return t"
   ]
  },
  {
   "cell_type": "code",
   "execution_count": 60,
   "id": "550412a3-a635-4592-ace3-9911c122737e",
   "metadata": {},
   "outputs": [],
   "source": [
    "# function to get the cell closest to each Treatment profile\n",
    "\n",
    "def treatment_center_cells(df,treatment_profiles,p=2):\n",
    "  tcc = []\n",
    "  for t in treatment_profiles.index:\n",
    "    diffs = (abs(df[df['Treatment'] == t].iloc[:,-256:] - treatment_profiles.loc[t])**p)\n",
    "    diffs_sum = diffs.sum(axis=1)**(1/p)\n",
    "    diffs_min = diffs_sum.min()\n",
    "    tcc.append(diffs[diffs_sum == diffs_min].index[0])\n",
    "  \n",
    "  return df.loc[tcc]\n",
    "\n",
    "#treatment_center_cells(nm,t,p=2).iloc[:,-260:]"
   ]
  },
  {
   "cell_type": "code",
   "execution_count": 61,
   "id": "68d90ae4-0be6-4240-90dd-22c11969ba67",
   "metadata": {},
   "outputs": [],
   "source": [
    "def plot_control_cell_to_target_cell(target, images, df, model,file = None, control='DMSO_0.0', control_text = 'DMSO',  target_text=None):\n",
    "    tp = treatment_profiles(df)\n",
    "    tcc = treatment_center_cells(df,tp,p=2)\n",
    "    control_cell = images[tcc[tcc['Treatment'] == 'DMSO_0.0'].index[0]]\n",
    "    target_cell = images[tcc[tcc['Treatment'] == target].index[0]]\n",
    "    plot_cosine_similarity(control_cell, target_cell, model, file=file, title=None, control_text = control_text,  target_text=treatment) \n",
    "    return "
   ]
  },
  {
   "cell_type": "code",
   "execution_count": 62,
   "id": "ebe35786-a519-437f-ac04-25f0a4168fd5",
   "metadata": {},
   "outputs": [],
   "source": [
    "create_directory(output_folder + \"morphs/\")"
   ]
  },
  {
   "cell_type": "code",
   "execution_count": 63,
   "id": "c5ab6103-6b62-4add-bf23-3199587e676e",
   "metadata": {},
   "outputs": [
    {
     "name": "stdout",
     "output_type": "stream",
     "text": [
      "doing:  dump/analyse_StandardVAE_2023-01-02 - 08-59-59/morphs/DMSO_0.0.png\n"
     ]
    },
    {
     "ename": "ValueError",
     "evalue": "Expected more than 1 value per channel when training, got input size torch.Size([1, 768, 1, 1])",
     "output_type": "error",
     "traceback": [
      "\u001b[0;31m---------------------------------------------------------------------------\u001b[0m",
      "\u001b[0;31mValueError\u001b[0m                                Traceback (most recent call last)",
      "Cell \u001b[0;32mIn [63], line 4\u001b[0m\n\u001b[1;32m      2\u001b[0m filename \u001b[38;5;241m=\u001b[39m output_folder \u001b[38;5;241m+\u001b[39m \u001b[38;5;124m\"\u001b[39m\u001b[38;5;124mmorphs/\u001b[39m\u001b[38;5;124m\"\u001b[39m \u001b[38;5;241m+\u001b[39m treatment\u001b[38;5;241m.\u001b[39mreplace(\u001b[38;5;124m'\u001b[39m\u001b[38;5;124m/\u001b[39m\u001b[38;5;124m'\u001b[39m, \u001b[38;5;124m\"\u001b[39m\u001b[38;5;124m_\u001b[39m\u001b[38;5;124m\"\u001b[39m) \u001b[38;5;241m+\u001b[39m \u001b[38;5;124m\"\u001b[39m\u001b[38;5;124m.png\u001b[39m\u001b[38;5;124m\"\u001b[39m\n\u001b[1;32m      3\u001b[0m \u001b[38;5;28mprint\u001b[39m(\u001b[38;5;124m\"\u001b[39m\u001b[38;5;124mdoing: \u001b[39m\u001b[38;5;124m\"\u001b[39m, filename)\n\u001b[0;32m----> 4\u001b[0m \u001b[43mplot_control_cell_to_target_cell\u001b[49m\u001b[43m(\u001b[49m\u001b[43mtreatment\u001b[49m\u001b[43m,\u001b[49m\u001b[43m \u001b[49m\u001b[43mimages\u001b[49m\u001b[43m,\u001b[49m\u001b[43m \u001b[49m\u001b[43mmetadata_latent\u001b[49m\u001b[43m,\u001b[49m\u001b[43m \u001b[49m\u001b[43mvae\u001b[49m\u001b[43m,\u001b[49m\u001b[43m \u001b[49m\u001b[43mfile\u001b[49m\u001b[38;5;241;43m=\u001b[39;49m\u001b[43mfilename\u001b[49m\u001b[43m,\u001b[49m\u001b[43m  \u001b[49m\u001b[43mcontrol\u001b[49m\u001b[38;5;241;43m=\u001b[39;49m\u001b[38;5;124;43m'\u001b[39;49m\u001b[38;5;124;43mDMSO_0.0\u001b[39;49m\u001b[38;5;124;43m'\u001b[39;49m\u001b[43m,\u001b[49m\u001b[43m \u001b[49m\u001b[43mcontrol_text\u001b[49m\u001b[43m \u001b[49m\u001b[38;5;241;43m=\u001b[39;49m\u001b[43m \u001b[49m\u001b[38;5;124;43m'\u001b[39;49m\u001b[38;5;124;43mDMSO\u001b[39;49m\u001b[38;5;124;43m'\u001b[39;49m\u001b[43m,\u001b[49m\u001b[43m  \u001b[49m\u001b[43mtarget_text\u001b[49m\u001b[38;5;241;43m=\u001b[39;49m\u001b[43mtreatment\u001b[49m\u001b[43m)\u001b[49m\n",
      "Cell \u001b[0;32mIn [61], line 6\u001b[0m, in \u001b[0;36mplot_control_cell_to_target_cell\u001b[0;34m(target, images, df, model, file, control, control_text, target_text)\u001b[0m\n\u001b[1;32m      4\u001b[0m control_cell \u001b[38;5;241m=\u001b[39m images[tcc[tcc[\u001b[38;5;124m'\u001b[39m\u001b[38;5;124mTreatment\u001b[39m\u001b[38;5;124m'\u001b[39m] \u001b[38;5;241m==\u001b[39m \u001b[38;5;124m'\u001b[39m\u001b[38;5;124mDMSO_0.0\u001b[39m\u001b[38;5;124m'\u001b[39m]\u001b[38;5;241m.\u001b[39mindex[\u001b[38;5;241m0\u001b[39m]]\n\u001b[1;32m      5\u001b[0m target_cell \u001b[38;5;241m=\u001b[39m images[tcc[tcc[\u001b[38;5;124m'\u001b[39m\u001b[38;5;124mTreatment\u001b[39m\u001b[38;5;124m'\u001b[39m] \u001b[38;5;241m==\u001b[39m target]\u001b[38;5;241m.\u001b[39mindex[\u001b[38;5;241m0\u001b[39m]]\n\u001b[0;32m----> 6\u001b[0m \u001b[43mplot_cosine_similarity\u001b[49m\u001b[43m(\u001b[49m\u001b[43mcontrol_cell\u001b[49m\u001b[43m,\u001b[49m\u001b[43m \u001b[49m\u001b[43mtarget_cell\u001b[49m\u001b[43m,\u001b[49m\u001b[43m \u001b[49m\u001b[43mmodel\u001b[49m\u001b[43m,\u001b[49m\u001b[43m \u001b[49m\u001b[43mfile\u001b[49m\u001b[38;5;241;43m=\u001b[39;49m\u001b[43mfile\u001b[49m\u001b[43m,\u001b[49m\u001b[43m \u001b[49m\u001b[43mtitle\u001b[49m\u001b[38;5;241;43m=\u001b[39;49m\u001b[38;5;28;43;01mNone\u001b[39;49;00m\u001b[43m,\u001b[49m\u001b[43m \u001b[49m\u001b[43mcontrol_text\u001b[49m\u001b[43m \u001b[49m\u001b[38;5;241;43m=\u001b[39;49m\u001b[43m \u001b[49m\u001b[43mcontrol_text\u001b[49m\u001b[43m,\u001b[49m\u001b[43m  \u001b[49m\u001b[43mtarget_text\u001b[49m\u001b[38;5;241;43m=\u001b[39;49m\u001b[43mtreatment\u001b[49m\u001b[43m)\u001b[49m \n\u001b[1;32m      7\u001b[0m \u001b[38;5;28;01mreturn\u001b[39;00m\n",
      "Cell \u001b[0;32mIn [58], line 9\u001b[0m, in \u001b[0;36mplot_cosine_similarity\u001b[0;34m(x0, x1, model, file, title, control_text, target_text)\u001b[0m\n\u001b[1;32m      3\u001b[0m \u001b[38;5;28;01mdef\u001b[39;00m \u001b[38;5;21mplot_cosine_similarity\u001b[39m(x0, x1, model, file\u001b[38;5;241m=\u001b[39m\u001b[38;5;28;01mNone\u001b[39;00m, title\u001b[38;5;241m=\u001b[39m\u001b[38;5;28;01mNone\u001b[39;00m, control_text\u001b[38;5;241m=\u001b[39m\u001b[38;5;124m\"\u001b[39m\u001b[38;5;124mControl\u001b[39m\u001b[38;5;124m\"\u001b[39m,  target_text\u001b[38;5;241m=\u001b[39m\u001b[38;5;124m\"\u001b[39m\u001b[38;5;124mTarget\u001b[39m\u001b[38;5;124m\"\u001b[39m):\n\u001b[1;32m      4\u001b[0m     \u001b[38;5;66;03m#model could be eg. \"model_dump/outputs_2022-12-04 - 12-20-15/\"\u001b[39;00m\n\u001b[1;32m      5\u001b[0m     \u001b[38;5;66;03m#x0.shape and x1.shape should be torch.Size([3, 68, 68])\u001b[39;00m\n\u001b[1;32m      6\u001b[0m     \n\u001b[1;32m      7\u001b[0m     \u001b[38;5;66;03m#vae, validation_data, training_data, VAE_settings = LoadVAEmodel(model)\u001b[39;00m\n\u001b[1;32m      8\u001b[0m     vae \u001b[38;5;241m=\u001b[39m model\n\u001b[0;32m----> 9\u001b[0m     outputs0 \u001b[38;5;241m=\u001b[39m \u001b[43mvae\u001b[49m\u001b[43m(\u001b[49m\u001b[43mx0\u001b[49m\u001b[43m[\u001b[49m\u001b[38;5;28;43;01mNone\u001b[39;49;00m\u001b[43m,\u001b[49m\u001b[43m:\u001b[49m\u001b[43m,\u001b[49m\u001b[43m:\u001b[49m\u001b[43m,\u001b[49m\u001b[43m:\u001b[49m\u001b[43m]\u001b[49m\u001b[43m)\u001b[49m\n\u001b[1;32m     10\u001b[0m     outputs1 \u001b[38;5;241m=\u001b[39m vae(x1[\u001b[38;5;28;01mNone\u001b[39;00m,:,:,:])\n\u001b[1;32m     12\u001b[0m     z0 \u001b[38;5;241m=\u001b[39m outputs0[\u001b[38;5;124m\"\u001b[39m\u001b[38;5;124mz\u001b[39m\u001b[38;5;124m\"\u001b[39m]\u001b[38;5;241m.\u001b[39mdetach()\u001b[38;5;241m.\u001b[39mnumpy()\n",
      "File \u001b[0;32m~/.pyenv/versions/3.10.7/lib/python3.10/site-packages/torch/nn/modules/module.py:1130\u001b[0m, in \u001b[0;36mModule._call_impl\u001b[0;34m(self, *input, **kwargs)\u001b[0m\n\u001b[1;32m   1126\u001b[0m \u001b[38;5;66;03m# If we don't have any hooks, we want to skip the rest of the logic in\u001b[39;00m\n\u001b[1;32m   1127\u001b[0m \u001b[38;5;66;03m# this function, and just call forward.\u001b[39;00m\n\u001b[1;32m   1128\u001b[0m \u001b[38;5;28;01mif\u001b[39;00m \u001b[38;5;129;01mnot\u001b[39;00m (\u001b[38;5;28mself\u001b[39m\u001b[38;5;241m.\u001b[39m_backward_hooks \u001b[38;5;129;01mor\u001b[39;00m \u001b[38;5;28mself\u001b[39m\u001b[38;5;241m.\u001b[39m_forward_hooks \u001b[38;5;129;01mor\u001b[39;00m \u001b[38;5;28mself\u001b[39m\u001b[38;5;241m.\u001b[39m_forward_pre_hooks \u001b[38;5;129;01mor\u001b[39;00m _global_backward_hooks\n\u001b[1;32m   1129\u001b[0m         \u001b[38;5;129;01mor\u001b[39;00m _global_forward_hooks \u001b[38;5;129;01mor\u001b[39;00m _global_forward_pre_hooks):\n\u001b[0;32m-> 1130\u001b[0m     \u001b[38;5;28;01mreturn\u001b[39;00m \u001b[43mforward_call\u001b[49m\u001b[43m(\u001b[49m\u001b[38;5;241;43m*\u001b[39;49m\u001b[38;5;28;43minput\u001b[39;49m\u001b[43m,\u001b[49m\u001b[43m \u001b[49m\u001b[38;5;241;43m*\u001b[39;49m\u001b[38;5;241;43m*\u001b[39;49m\u001b[43mkwargs\u001b[49m\u001b[43m)\u001b[49m\n\u001b[1;32m   1131\u001b[0m \u001b[38;5;66;03m# Do not call functions when jit is used\u001b[39;00m\n\u001b[1;32m   1132\u001b[0m full_backward_hooks, non_full_backward_hooks \u001b[38;5;241m=\u001b[39m [], []\n",
      "File \u001b[0;32m~/Documents/DTU-kurser/Deep learning/Project/code/DeepLearning_02456/models/SparseVariationalAutoencoder.py:104\u001b[0m, in \u001b[0;36mSparseVariationalAutoencoder.forward\u001b[0;34m(self, x)\u001b[0m\n\u001b[1;32m    101\u001b[0m \u001b[38;5;28;01mdef\u001b[39;00m \u001b[38;5;21mforward\u001b[39m(\u001b[38;5;28mself\u001b[39m, x) \u001b[38;5;241m-\u001b[39m\u001b[38;5;241m>\u001b[39m Dict[\u001b[38;5;28mstr\u001b[39m, Any]:\n\u001b[1;32m    102\u001b[0m     \u001b[38;5;66;03m# flatten the input\u001b[39;00m\n\u001b[1;32m    103\u001b[0m     \u001b[38;5;66;03m#x = x.reshape(x.size(0), -1)\u001b[39;00m\n\u001b[0;32m--> 104\u001b[0m     h_z \u001b[38;5;241m=\u001b[39m \u001b[38;5;28;43mself\u001b[39;49m\u001b[38;5;241;43m.\u001b[39;49m\u001b[43mencoder\u001b[49m\u001b[43m(\u001b[49m\u001b[43mx\u001b[49m\u001b[43m)\u001b[49m\n\u001b[1;32m    105\u001b[0m     qz_mu, qz_log_sigma, qz_log_gamma \u001b[38;5;241m=\u001b[39m h_z\u001b[38;5;241m.\u001b[39mchunk(\u001b[38;5;241m3\u001b[39m, dim\u001b[38;5;241m=\u001b[39m\u001b[38;5;241m-\u001b[39m\u001b[38;5;241m1\u001b[39m)\n\u001b[1;32m    107\u001b[0m     z \u001b[38;5;241m=\u001b[39m \u001b[38;5;28mself\u001b[39m\u001b[38;5;241m.\u001b[39mReparameterizedSpikeAndSlab_sample(qz_mu, qz_log_sigma, qz_log_gamma)\n",
      "File \u001b[0;32m~/.pyenv/versions/3.10.7/lib/python3.10/site-packages/torch/nn/modules/module.py:1130\u001b[0m, in \u001b[0;36mModule._call_impl\u001b[0;34m(self, *input, **kwargs)\u001b[0m\n\u001b[1;32m   1126\u001b[0m \u001b[38;5;66;03m# If we don't have any hooks, we want to skip the rest of the logic in\u001b[39;00m\n\u001b[1;32m   1127\u001b[0m \u001b[38;5;66;03m# this function, and just call forward.\u001b[39;00m\n\u001b[1;32m   1128\u001b[0m \u001b[38;5;28;01mif\u001b[39;00m \u001b[38;5;129;01mnot\u001b[39;00m (\u001b[38;5;28mself\u001b[39m\u001b[38;5;241m.\u001b[39m_backward_hooks \u001b[38;5;129;01mor\u001b[39;00m \u001b[38;5;28mself\u001b[39m\u001b[38;5;241m.\u001b[39m_forward_hooks \u001b[38;5;129;01mor\u001b[39;00m \u001b[38;5;28mself\u001b[39m\u001b[38;5;241m.\u001b[39m_forward_pre_hooks \u001b[38;5;129;01mor\u001b[39;00m _global_backward_hooks\n\u001b[1;32m   1129\u001b[0m         \u001b[38;5;129;01mor\u001b[39;00m _global_forward_hooks \u001b[38;5;129;01mor\u001b[39;00m _global_forward_pre_hooks):\n\u001b[0;32m-> 1130\u001b[0m     \u001b[38;5;28;01mreturn\u001b[39;00m \u001b[43mforward_call\u001b[49m\u001b[43m(\u001b[49m\u001b[38;5;241;43m*\u001b[39;49m\u001b[38;5;28;43minput\u001b[39;49m\u001b[43m,\u001b[49m\u001b[43m \u001b[49m\u001b[38;5;241;43m*\u001b[39;49m\u001b[38;5;241;43m*\u001b[39;49m\u001b[43mkwargs\u001b[49m\u001b[43m)\u001b[49m\n\u001b[1;32m   1131\u001b[0m \u001b[38;5;66;03m# Do not call functions when jit is used\u001b[39;00m\n\u001b[1;32m   1132\u001b[0m full_backward_hooks, non_full_backward_hooks \u001b[38;5;241m=\u001b[39m [], []\n",
      "File \u001b[0;32m~/.pyenv/versions/3.10.7/lib/python3.10/site-packages/torch/nn/modules/container.py:139\u001b[0m, in \u001b[0;36mSequential.forward\u001b[0;34m(self, input)\u001b[0m\n\u001b[1;32m    137\u001b[0m \u001b[38;5;28;01mdef\u001b[39;00m \u001b[38;5;21mforward\u001b[39m(\u001b[38;5;28mself\u001b[39m, \u001b[38;5;28minput\u001b[39m):\n\u001b[1;32m    138\u001b[0m     \u001b[38;5;28;01mfor\u001b[39;00m module \u001b[38;5;129;01min\u001b[39;00m \u001b[38;5;28mself\u001b[39m:\n\u001b[0;32m--> 139\u001b[0m         \u001b[38;5;28minput\u001b[39m \u001b[38;5;241m=\u001b[39m \u001b[43mmodule\u001b[49m\u001b[43m(\u001b[49m\u001b[38;5;28;43minput\u001b[39;49m\u001b[43m)\u001b[49m\n\u001b[1;32m    140\u001b[0m     \u001b[38;5;28;01mreturn\u001b[39;00m \u001b[38;5;28minput\u001b[39m\n",
      "File \u001b[0;32m~/.pyenv/versions/3.10.7/lib/python3.10/site-packages/torch/nn/modules/module.py:1130\u001b[0m, in \u001b[0;36mModule._call_impl\u001b[0;34m(self, *input, **kwargs)\u001b[0m\n\u001b[1;32m   1126\u001b[0m \u001b[38;5;66;03m# If we don't have any hooks, we want to skip the rest of the logic in\u001b[39;00m\n\u001b[1;32m   1127\u001b[0m \u001b[38;5;66;03m# this function, and just call forward.\u001b[39;00m\n\u001b[1;32m   1128\u001b[0m \u001b[38;5;28;01mif\u001b[39;00m \u001b[38;5;129;01mnot\u001b[39;00m (\u001b[38;5;28mself\u001b[39m\u001b[38;5;241m.\u001b[39m_backward_hooks \u001b[38;5;129;01mor\u001b[39;00m \u001b[38;5;28mself\u001b[39m\u001b[38;5;241m.\u001b[39m_forward_hooks \u001b[38;5;129;01mor\u001b[39;00m \u001b[38;5;28mself\u001b[39m\u001b[38;5;241m.\u001b[39m_forward_pre_hooks \u001b[38;5;129;01mor\u001b[39;00m _global_backward_hooks\n\u001b[1;32m   1129\u001b[0m         \u001b[38;5;129;01mor\u001b[39;00m _global_forward_hooks \u001b[38;5;129;01mor\u001b[39;00m _global_forward_pre_hooks):\n\u001b[0;32m-> 1130\u001b[0m     \u001b[38;5;28;01mreturn\u001b[39;00m \u001b[43mforward_call\u001b[49m\u001b[43m(\u001b[49m\u001b[38;5;241;43m*\u001b[39;49m\u001b[38;5;28;43minput\u001b[39;49m\u001b[43m,\u001b[49m\u001b[43m \u001b[49m\u001b[38;5;241;43m*\u001b[39;49m\u001b[38;5;241;43m*\u001b[39;49m\u001b[43mkwargs\u001b[49m\u001b[43m)\u001b[49m\n\u001b[1;32m   1131\u001b[0m \u001b[38;5;66;03m# Do not call functions when jit is used\u001b[39;00m\n\u001b[1;32m   1132\u001b[0m full_backward_hooks, non_full_backward_hooks \u001b[38;5;241m=\u001b[39m [], []\n",
      "File \u001b[0;32m~/.pyenv/versions/3.10.7/lib/python3.10/site-packages/torch/nn/modules/batchnorm.py:168\u001b[0m, in \u001b[0;36m_BatchNorm.forward\u001b[0;34m(self, input)\u001b[0m\n\u001b[1;32m    161\u001b[0m     bn_training \u001b[38;5;241m=\u001b[39m (\u001b[38;5;28mself\u001b[39m\u001b[38;5;241m.\u001b[39mrunning_mean \u001b[38;5;129;01mis\u001b[39;00m \u001b[38;5;28;01mNone\u001b[39;00m) \u001b[38;5;129;01mand\u001b[39;00m (\u001b[38;5;28mself\u001b[39m\u001b[38;5;241m.\u001b[39mrunning_var \u001b[38;5;129;01mis\u001b[39;00m \u001b[38;5;28;01mNone\u001b[39;00m)\n\u001b[1;32m    163\u001b[0m \u001b[38;5;124mr\u001b[39m\u001b[38;5;124;03m\"\"\"\u001b[39;00m\n\u001b[1;32m    164\u001b[0m \u001b[38;5;124;03mBuffers are only updated if they are to be tracked and we are in training mode. Thus they only need to be\u001b[39;00m\n\u001b[1;32m    165\u001b[0m \u001b[38;5;124;03mpassed when the update should occur (i.e. in training mode when they are tracked), or when buffer stats are\u001b[39;00m\n\u001b[1;32m    166\u001b[0m \u001b[38;5;124;03mused for normalization (i.e. in eval mode when buffers are not None).\u001b[39;00m\n\u001b[1;32m    167\u001b[0m \u001b[38;5;124;03m\"\"\"\u001b[39;00m\n\u001b[0;32m--> 168\u001b[0m \u001b[38;5;28;01mreturn\u001b[39;00m \u001b[43mF\u001b[49m\u001b[38;5;241;43m.\u001b[39;49m\u001b[43mbatch_norm\u001b[49m\u001b[43m(\u001b[49m\n\u001b[1;32m    169\u001b[0m \u001b[43m    \u001b[49m\u001b[38;5;28;43minput\u001b[39;49m\u001b[43m,\u001b[49m\n\u001b[1;32m    170\u001b[0m \u001b[43m    \u001b[49m\u001b[38;5;66;43;03m# If buffers are not to be tracked, ensure that they won't be updated\u001b[39;49;00m\n\u001b[1;32m    171\u001b[0m \u001b[43m    \u001b[49m\u001b[38;5;28;43mself\u001b[39;49m\u001b[38;5;241;43m.\u001b[39;49m\u001b[43mrunning_mean\u001b[49m\n\u001b[1;32m    172\u001b[0m \u001b[43m    \u001b[49m\u001b[38;5;28;43;01mif\u001b[39;49;00m\u001b[43m \u001b[49m\u001b[38;5;129;43;01mnot\u001b[39;49;00m\u001b[43m \u001b[49m\u001b[38;5;28;43mself\u001b[39;49m\u001b[38;5;241;43m.\u001b[39;49m\u001b[43mtraining\u001b[49m\u001b[43m \u001b[49m\u001b[38;5;129;43;01mor\u001b[39;49;00m\u001b[43m \u001b[49m\u001b[38;5;28;43mself\u001b[39;49m\u001b[38;5;241;43m.\u001b[39;49m\u001b[43mtrack_running_stats\u001b[49m\n\u001b[1;32m    173\u001b[0m \u001b[43m    \u001b[49m\u001b[38;5;28;43;01melse\u001b[39;49;00m\u001b[43m \u001b[49m\u001b[38;5;28;43;01mNone\u001b[39;49;00m\u001b[43m,\u001b[49m\n\u001b[1;32m    174\u001b[0m \u001b[43m    \u001b[49m\u001b[38;5;28;43mself\u001b[39;49m\u001b[38;5;241;43m.\u001b[39;49m\u001b[43mrunning_var\u001b[49m\u001b[43m \u001b[49m\u001b[38;5;28;43;01mif\u001b[39;49;00m\u001b[43m \u001b[49m\u001b[38;5;129;43;01mnot\u001b[39;49;00m\u001b[43m \u001b[49m\u001b[38;5;28;43mself\u001b[39;49m\u001b[38;5;241;43m.\u001b[39;49m\u001b[43mtraining\u001b[49m\u001b[43m \u001b[49m\u001b[38;5;129;43;01mor\u001b[39;49;00m\u001b[43m \u001b[49m\u001b[38;5;28;43mself\u001b[39;49m\u001b[38;5;241;43m.\u001b[39;49m\u001b[43mtrack_running_stats\u001b[49m\u001b[43m \u001b[49m\u001b[38;5;28;43;01melse\u001b[39;49;00m\u001b[43m \u001b[49m\u001b[38;5;28;43;01mNone\u001b[39;49;00m\u001b[43m,\u001b[49m\n\u001b[1;32m    175\u001b[0m \u001b[43m    \u001b[49m\u001b[38;5;28;43mself\u001b[39;49m\u001b[38;5;241;43m.\u001b[39;49m\u001b[43mweight\u001b[49m\u001b[43m,\u001b[49m\n\u001b[1;32m    176\u001b[0m \u001b[43m    \u001b[49m\u001b[38;5;28;43mself\u001b[39;49m\u001b[38;5;241;43m.\u001b[39;49m\u001b[43mbias\u001b[49m\u001b[43m,\u001b[49m\n\u001b[1;32m    177\u001b[0m \u001b[43m    \u001b[49m\u001b[43mbn_training\u001b[49m\u001b[43m,\u001b[49m\n\u001b[1;32m    178\u001b[0m \u001b[43m    \u001b[49m\u001b[43mexponential_average_factor\u001b[49m\u001b[43m,\u001b[49m\n\u001b[1;32m    179\u001b[0m \u001b[43m    \u001b[49m\u001b[38;5;28;43mself\u001b[39;49m\u001b[38;5;241;43m.\u001b[39;49m\u001b[43meps\u001b[49m\u001b[43m,\u001b[49m\n\u001b[1;32m    180\u001b[0m \u001b[43m\u001b[49m\u001b[43m)\u001b[49m\n",
      "File \u001b[0;32m~/.pyenv/versions/3.10.7/lib/python3.10/site-packages/torch/nn/functional.py:2436\u001b[0m, in \u001b[0;36mbatch_norm\u001b[0;34m(input, running_mean, running_var, weight, bias, training, momentum, eps)\u001b[0m\n\u001b[1;32m   2423\u001b[0m     \u001b[38;5;28;01mreturn\u001b[39;00m handle_torch_function(\n\u001b[1;32m   2424\u001b[0m         batch_norm,\n\u001b[1;32m   2425\u001b[0m         (\u001b[38;5;28minput\u001b[39m, running_mean, running_var, weight, bias),\n\u001b[0;32m   (...)\u001b[0m\n\u001b[1;32m   2433\u001b[0m         eps\u001b[38;5;241m=\u001b[39meps,\n\u001b[1;32m   2434\u001b[0m     )\n\u001b[1;32m   2435\u001b[0m \u001b[38;5;28;01mif\u001b[39;00m training:\n\u001b[0;32m-> 2436\u001b[0m     \u001b[43m_verify_batch_size\u001b[49m\u001b[43m(\u001b[49m\u001b[38;5;28;43minput\u001b[39;49m\u001b[38;5;241;43m.\u001b[39;49m\u001b[43msize\u001b[49m\u001b[43m(\u001b[49m\u001b[43m)\u001b[49m\u001b[43m)\u001b[49m\n\u001b[1;32m   2438\u001b[0m \u001b[38;5;28;01mreturn\u001b[39;00m torch\u001b[38;5;241m.\u001b[39mbatch_norm(\n\u001b[1;32m   2439\u001b[0m     \u001b[38;5;28minput\u001b[39m, weight, bias, running_mean, running_var, training, momentum, eps, torch\u001b[38;5;241m.\u001b[39mbackends\u001b[38;5;241m.\u001b[39mcudnn\u001b[38;5;241m.\u001b[39menabled\n\u001b[1;32m   2440\u001b[0m )\n",
      "File \u001b[0;32m~/.pyenv/versions/3.10.7/lib/python3.10/site-packages/torch/nn/functional.py:2404\u001b[0m, in \u001b[0;36m_verify_batch_size\u001b[0;34m(size)\u001b[0m\n\u001b[1;32m   2402\u001b[0m     size_prods \u001b[38;5;241m*\u001b[39m\u001b[38;5;241m=\u001b[39m size[i \u001b[38;5;241m+\u001b[39m \u001b[38;5;241m2\u001b[39m]\n\u001b[1;32m   2403\u001b[0m \u001b[38;5;28;01mif\u001b[39;00m size_prods \u001b[38;5;241m==\u001b[39m \u001b[38;5;241m1\u001b[39m:\n\u001b[0;32m-> 2404\u001b[0m     \u001b[38;5;28;01mraise\u001b[39;00m \u001b[38;5;167;01mValueError\u001b[39;00m(\u001b[38;5;124m\"\u001b[39m\u001b[38;5;124mExpected more than 1 value per channel when training, got input size \u001b[39m\u001b[38;5;132;01m{}\u001b[39;00m\u001b[38;5;124m\"\u001b[39m\u001b[38;5;241m.\u001b[39mformat(size))\n",
      "\u001b[0;31mValueError\u001b[0m: Expected more than 1 value per channel when training, got input size torch.Size([1, 768, 1, 1])"
     ]
    }
   ],
   "source": [
    "for treatment in metadata_latent['Treatment'].unique():\n",
    "    filename = output_folder + \"morphs/\" + treatment.replace('/', \"_\") + \".png\"\n",
    "    print(\"doing: \", filename)\n",
    "    plot_control_cell_to_target_cell(treatment, images, metadata_latent, vae, file=filename,  control='DMSO_0.0', control_text = 'DMSO',  target_text=treatment)\n",
    "#plot_control_cell_to_target_cell(\"emetine_0.3\", images, metadata_latent, vae, control='DMSO_0.0')\n"
   ]
  },
  {
   "cell_type": "code",
   "execution_count": null,
   "id": "95d51231-baec-4de5-9029-1b9db29dbab4",
   "metadata": {},
   "outputs": [],
   "source": []
  }
 ],
 "metadata": {
  "kernelspec": {
   "display_name": "Python 3 (ipykernel)",
   "language": "python",
   "name": "python3"
  },
  "language_info": {
   "codemirror_mode": {
    "name": "ipython",
    "version": 3
   },
   "file_extension": ".py",
   "mimetype": "text/x-python",
   "name": "python",
   "nbconvert_exporter": "python",
   "pygments_lexer": "ipython3",
   "version": "3.10.7"
  }
 },
 "nbformat": 4,
 "nbformat_minor": 5
}
